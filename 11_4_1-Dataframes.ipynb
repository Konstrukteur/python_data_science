{
 "cells": [
  {
   "cell_type": "code",
   "execution_count": 1,
   "id": "1070cfe3-ac44-4f33-a820-fc9fecb6c2a0",
   "metadata": {},
   "outputs": [
    {
     "name": "stdout",
     "output_type": "stream",
     "text": [
      "   Number String    Angles    Random  Timestamp   Size\n",
      "0     1.0    foo  0.000000  0.744392 2022-10-20   tiny\n",
      "1     1.0    foo  1.570796 -1.003878 2022-10-20  small\n",
      "2     1.0    foo  3.141593 -1.697456 2022-10-20    mid\n",
      "3     1.0    foo  4.712389  0.579866 2022-10-20    big\n",
      "4     1.0    foo  6.283185  0.742467 2022-10-20   huge\n"
     ]
    }
   ],
   "source": [
    "from math import tau\n",
    "\n",
    "import numpy as np\n",
    "from numpy.random import default_rng\n",
    "import pandas as pd\n",
    "import matplotlib.pyplot as plt\n",
    "\n",
    "\n",
    "rng = default_rng()\n",
    "df = pd.DataFrame(\n",
    "    {\n",
    "        \"Number\": 1.0,\n",
    "        \"String\": \"foo\",\n",
    "        \"Angles\": np.linspace(0, tau, 5),\n",
    "        \"Random\": pd.Series(rng.standard_normal(5)),\n",
    "        \"Timestamp\": pd.Timestamp(\"20221020\"),\n",
    "         \"Size\": pd.Categorical([\"tiny\", \"small\", \"mid\", \"big\", \"huge\"])\n",
    "    })\n",
    "print(df)"
   ]
  },
  {
   "cell_type": "code",
   "execution_count": 2,
   "id": "0263603c-c919-4431-9d02-49deb3edff44",
   "metadata": {},
   "outputs": [
    {
     "name": "stdout",
     "output_type": "stream",
     "text": [
      "0     tiny\n",
      "1    small\n",
      "2      mid\n",
      "3      big\n",
      "4     huge\n",
      "Name: Size, dtype: category\n",
      "Categories (5, object): ['big', 'huge', 'mid', 'small', 'tiny']\n"
     ]
    }
   ],
   "source": [
    "print(df[\"Size\"])"
   ]
  },
  {
   "cell_type": "code",
   "execution_count": 3,
   "id": "e4412639-4f8f-444e-8972-174a366c01dc",
   "metadata": {},
   "outputs": [
    {
     "name": "stdout",
     "output_type": "stream",
     "text": [
      "-0.1269217854741907\n"
     ]
    }
   ],
   "source": [
    "print(df[\"Random\"].mean())"
   ]
  },
  {
   "cell_type": "code",
   "execution_count": 4,
   "id": "19a30938-1326-46f7-9c11-d92222857e5d",
   "metadata": {},
   "outputs": [
    {
     "name": "stdout",
     "output_type": "stream",
     "text": [
      "       Number    Angles    Random\n",
      "count     5.0  5.000000  5.000000\n",
      "mean      1.0  3.141593 -0.126922\n",
      "std       0.0  2.483647  1.145666\n",
      "min       1.0  0.000000 -1.697456\n",
      "25%       1.0  1.570796 -1.003878\n",
      "50%       1.0  3.141593  0.579866\n",
      "75%       1.0  4.712389  0.742467\n",
      "max       1.0  6.283185  0.744392\n"
     ]
    }
   ],
   "source": [
    "print(df.describe())"
   ]
  },
  {
   "cell_type": "code",
   "execution_count": 5,
   "id": "26cad14a-9309-473d-b0f3-00612f558817",
   "metadata": {},
   "outputs": [
    {
     "name": "stdout",
     "output_type": "stream",
     "text": [
      "0     4\n",
      "1     8\n",
      "2    12\n",
      "3    16\n",
      "4    24\n",
      "Name: Size, dtype: category\n",
      "Categories (5, int64): [16, 24, 12, 8, 4]\n"
     ]
    }
   ],
   "source": [
    "sizes = {\"tiny\": 4, \"small\": 8, \"mid\": 12, \"big\": 16, \"huge\": 24}\n",
    "print(df[\"Size\"].map(sizes))"
   ]
  },
  {
   "cell_type": "code",
   "execution_count": 6,
   "id": "fc41d300-02f0-43b6-bae2-f7be346d6b50",
   "metadata": {},
   "outputs": [
    {
     "name": "stdout",
     "output_type": "stream",
     "text": [
      "<class 'pandas.core.frame.DataFrame'>\n",
      "RangeIndex: 5 entries, 0 to 4\n",
      "Data columns (total 6 columns):\n",
      " #   Column     Non-Null Count  Dtype         \n",
      "---  ------     --------------  -----         \n",
      " 0   Number     5 non-null      float64       \n",
      " 1   String     5 non-null      object        \n",
      " 2   Angles     5 non-null      float64       \n",
      " 3   Random     5 non-null      float64       \n",
      " 4   Timestamp  5 non-null      datetime64[ns]\n",
      " 5   Size       5 non-null      category      \n",
      "dtypes: category(1), datetime64[ns](1), float64(3), object(1)\n",
      "memory usage: 545.0+ bytes\n",
      "None\n"
     ]
    }
   ],
   "source": [
    "print(df.info())"
   ]
  },
  {
   "cell_type": "code",
   "execution_count": null,
   "id": "090ae008-bcc2-4979-add0-798043aeb4b1",
   "metadata": {},
   "outputs": [],
   "source": []
  }
 ],
 "metadata": {
  "kernelspec": {
   "display_name": "Python 3 (ipykernel)",
   "language": "python",
   "name": "python3"
  },
  "language_info": {
   "codemirror_mode": {
    "name": "ipython",
    "version": 3
   },
   "file_extension": ".py",
   "mimetype": "text/x-python",
   "name": "python",
   "nbconvert_exporter": "python",
   "pygments_lexer": "ipython3",
   "version": "3.10.9"
  }
 },
 "nbformat": 4,
 "nbformat_minor": 5
}
