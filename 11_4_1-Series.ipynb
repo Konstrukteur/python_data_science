{
 "cells": [
  {
   "cell_type": "code",
   "execution_count": 1,
   "id": "1070cfe3-ac44-4f33-a820-fc9fecb6c2a0",
   "metadata": {},
   "outputs": [
    {
     "name": "stdout",
     "output_type": "stream",
     "text": [
      "0      1\n",
      "1      2\n",
      "2      3\n",
      "3    foo\n",
      "4    NaN\n",
      "5    bar\n",
      "dtype: object\n"
     ]
    }
   ],
   "source": [
    "import numpy as np\n",
    "import pandas as pd\n",
    "import matplotlib.pyplot as plt\n",
    "from numpy.random import default_rng\n",
    "\n",
    "\n",
    "print(pd.Series([1, 2, 3, \"foo\", np.nan, \"bar\"]))"
   ]
  },
  {
   "cell_type": "code",
   "execution_count": 2,
   "id": "af9cd8b3-b282-4a2d-aa2a-763f93a5f897",
   "metadata": {},
   "outputs": [
    {
     "name": "stdout",
     "output_type": "stream",
     "text": [
      "0      1\n",
      "1      2\n",
      "2      3\n",
      "3    foo\n",
      "5    bar\n",
      "dtype: object\n"
     ]
    }
   ],
   "source": [
    "print(pd.Series([1, 2, 3, \"foo\", np.nan, \"bar\"]).dropna())"
   ]
  },
  {
   "cell_type": "code",
   "execution_count": 3,
   "id": "434d5d12-f6d7-4231-827a-5280b52d480b",
   "metadata": {},
   "outputs": [
    {
     "name": "stdout",
     "output_type": "stream",
     "text": [
      "RangeIndex(start=0, stop=6, step=1)\n"
     ]
    }
   ],
   "source": [
    "print(pd.Series([1, 2, 3, \"foo\", np.nan, \"bar\"]).index)"
   ]
  },
  {
   "cell_type": "code",
   "execution_count": 4,
   "id": "67ac1efc-dfc5-4d73-8053-145298d38374",
   "metadata": {},
   "outputs": [
    {
     "name": "stdout",
     "output_type": "stream",
     "text": [
      "a   -0.824115\n",
      "b    0.625345\n",
      "c    0.323874\n",
      "d    0.890255\n",
      "e    0.643001\n",
      "dtype: float64\n"
     ]
    }
   ],
   "source": [
    "rng = default_rng()\n",
    "s = pd.Series(rng.standard_normal(5), index=[\"a\", \"b\", \"c\", \"d\", \"e\"])\n",
    "print(s)"
   ]
  },
  {
   "cell_type": "code",
   "execution_count": 5,
   "id": "b3fcced6-4f7b-4d69-a91b-e7a40b97a1ac",
   "metadata": {},
   "outputs": [
    {
     "name": "stdout",
     "output_type": "stream",
     "text": [
      "-0.8241148020214596\n"
     ]
    }
   ],
   "source": [
    "print(s[0])"
   ]
  },
  {
   "cell_type": "code",
   "execution_count": 6,
   "id": "77186142-d86a-460f-81f9-a4d2fbc45ddc",
   "metadata": {},
   "outputs": [
    {
     "name": "stdout",
     "output_type": "stream",
     "text": [
      "b    0.625345\n",
      "c    0.323874\n",
      "dtype: float64\n"
     ]
    }
   ],
   "source": [
    "print(s[1:3])"
   ]
  },
  {
   "cell_type": "code",
   "execution_count": 7,
   "id": "89395d7f-4610-4002-9c13-a16febd78189",
   "metadata": {},
   "outputs": [
    {
     "name": "stdout",
     "output_type": "stream",
     "text": [
      "0.3238737508179312\n"
     ]
    }
   ],
   "source": [
    "print(s[\"c\"])"
   ]
  },
  {
   "cell_type": "code",
   "execution_count": 8,
   "id": "66373454-aada-4d22-9391-5ff9a4712f16",
   "metadata": {},
   "outputs": [
    {
     "name": "stdout",
     "output_type": "stream",
     "text": [
      "Index(['a', 'b', 'c', 'd', 'e'], dtype='object')\n"
     ]
    }
   ],
   "source": [
    "print(s.keys())"
   ]
  },
  {
   "cell_type": "code",
   "execution_count": 9,
   "id": "0e137899-b37d-4908-ae13-3f7d8e227713",
   "metadata": {},
   "outputs": [
    {
     "name": "stdout",
     "output_type": "stream",
     "text": [
      "Index(['a', 'b', 'c', 'd', 'e'], dtype='object')\n"
     ]
    }
   ],
   "source": [
    "print(s.index)"
   ]
  },
  {
   "cell_type": "code",
   "execution_count": 10,
   "id": "b76580e8-9c6b-4964-9be8-9fb54cb92e96",
   "metadata": {},
   "outputs": [
    {
     "data": {
      "image/png": "[encoded data removed]",
      "text/plain": [
       "<Figure size 640x480 with 1 Axes>"
      ]
     },
     "metadata": {},
     "output_type": "display_data"
    }
   ],
   "source": [
    "s = pd.Series(rng.standard_normal(1000))\n",
    "s.hist()\n",
    "plt.show()"
   ]
  },
  {
   "cell_type": "code",
   "execution_count": null,
   "id": "31e22838-a121-47a5-bcc7-8b992f5cf45a",
   "metadata": {},
   "outputs": [],
   "source": []
  }
 ],
 "metadata": {
  "kernelspec": {
   "display_name": "Python 3 (ipykernel)",
   "language": "python",
   "name": "python3"
  },
  "language_info": {
   "codemirror_mode": {
    "name": "ipython",
    "version": 3
   },
   "file_extension": ".py",
   "mimetype": "text/x-python",
   "name": "python",
   "nbconvert_exporter": "python",
   "pygments_lexer": "ipython3",
   "version": "3.10.9"
  }
 },
 "nbformat": 4,
 "nbformat_minor": 5
}
