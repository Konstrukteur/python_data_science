{
 "cells": [
  {
   "cell_type": "code",
   "execution_count": 4,
   "id": "97039078-5ce0-464d-bd08-35faf37b2022",
   "metadata": {},
   "outputs": [],
   "source": [
    "import numpy as np\n",
    "\n",
    "import matplotlib.pyplot as plt"
   ]
  },
  {
   "cell_type": "code",
   "execution_count": 5,
   "id": "4bc67c41-9a79-411e-be95-d2114597d7d2",
   "metadata": {},
   "outputs": [
    {
     "ename": "NameError",
     "evalue": "name 'wien' is not defined",
     "output_type": "error",
     "traceback": [
      "\u001b[0;31m---------------------------------------------------------------------------\u001b[0m",
      "\u001b[0;31mNameError\u001b[0m                                 Traceback (most recent call last)",
      "Cell \u001b[0;32mIn[5], line 3\u001b[0m\n\u001b[1;32m      1\u001b[0m x \u001b[38;5;241m=\u001b[39m np\u001b[38;5;241m.\u001b[39mlinspace(\u001b[38;5;241m-\u001b[39m\u001b[38;5;241m1\u001b[39m, \u001b[38;5;241m6\u001b[39m, \u001b[38;5;241m100\u001b[39m)\n\u001b[0;32m----> 3\u001b[0m plt\u001b[38;5;241m.\u001b[39mplot(x, \u001b[43mwien\u001b[49m(x));\n\u001b[1;32m      4\u001b[0m plt\u001b[38;5;241m.\u001b[39mplot(x, \u001b[38;5;241m0\u001b[39m\u001b[38;5;241m*\u001b[39mx);\n",
      "\u001b[0;31mNameError\u001b[0m: name 'wien' is not defined"
     ]
    }
   ],
   "source": [
    "x = np.linspace(-1, 6, 100)\n",
    "\n",
    "plt.plot(x, wien(x));\n",
    "plt.plot(x, 0*x);"
   ]
  },
  {
   "cell_type": "code",
   "execution_count": null,
   "id": "12e99015-56e9-4df6-9e94-9928828c8f0b",
   "metadata": {},
   "outputs": [],
   "source": [
    "var('x')\n",
    "find_root(wien(x) == 0, 1, 6)"
   ]
  }
 ],
 "metadata": {
  "kernelspec": {
   "display_name": "Python 3 (ipykernel)",
   "language": "python",
   "name": "python3"
  },
  "language_info": {
   "codemirror_mode": {
    "name": "ipython",
    "version": 3
   },
   "file_extension": ".py",
   "mimetype": "text/x-python",
   "name": "python",
   "nbconvert_exporter": "python",
   "pygments_lexer": "ipython3",
   "version": "3.10.9"
  }
 },
 "nbformat": 4,
 "nbformat_minor": 5
}
