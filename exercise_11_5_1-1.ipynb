{
 "cells": [
  {
   "cell_type": "code",
   "execution_count": 1,
   "id": "ea911aa9-6c7f-40cd-b4c4-9de556fa8814",
   "metadata": {},
   "outputs": [],
   "source": [
    "import numpy as np\n",
    "import pandas as pd\n",
    "import matplotlib.pyplot as plt\n",
    "from numpy.random import default_rng\n",
    "\n",
    "\n",
    "nobel = pd.read_csv(\"laureates.csv\")"
   ]
  },
  {
   "cell_type": "code",
   "execution_count": 2,
   "id": "a4b3a0f2-ac90-49f0-a4b2-6c3000cccdbc",
   "metadata": {},
   "outputs": [
    {
     "name": "stdout",
     "output_type": "stream",
     "text": [
      "                id         year       share\n",
      "count   975.000000   975.000000  975.000000\n",
      "mean    496.221538  1972.471795    2.014359\n",
      "std     290.594353    34.058064    0.943909\n",
      "min       1.000000  1901.000000    1.000000\n",
      "25%     244.500000  1948.500000    1.000000\n",
      "50%     488.000000  1978.000000    2.000000\n",
      "75%     746.500000  2001.000000    3.000000\n",
      "max    1009.000000  2021.000000    4.000000\n"
     ]
    }
   ],
   "source": [
    "print(nobel.describe())"
   ]
  },
  {
   "cell_type": "code",
   "execution_count": 3,
   "id": "836ce313-abab-4db9-8dc7-de47e2441789",
   "metadata": {},
   "outputs": [
    {
     "name": "stdout",
     "output_type": "stream",
     "text": [
      "   id       firstname    surname        born        died  \\\n",
      "0   1  Wilhelm Conrad    Röntgen  1845-03-27  1923-02-10   \n",
      "1   2      Hendrik A.    Lorentz  1853-07-18  1928-02-04   \n",
      "2   3          Pieter     Zeeman  1865-05-25  1943-10-09   \n",
      "3   4           Henri  Becquerel  1852-12-15  1908-08-25   \n",
      "4   5          Pierre      Curie  1859-05-15  1906-04-19   \n",
      "\n",
      "             bornCountry bornCountryCode                bornCity  \\\n",
      "0  Prussia (now Germany)              DE  Lennep (now Remscheid)   \n",
      "1        the Netherlands              NL                  Arnhem   \n",
      "2        the Netherlands              NL              Zonnemaire   \n",
      "3                 France              FR                   Paris   \n",
      "4                 France              FR                   Paris   \n",
      "\n",
      "       diedCountry diedCountryCode   diedCity gender  year category  \\\n",
      "0          Germany              DE     Munich   male  1901  physics   \n",
      "1  the Netherlands              NL        NaN   male  1902  physics   \n",
      "2  the Netherlands              NL  Amsterdam   male  1902  physics   \n",
      "3           France              FR        NaN   male  1903  physics   \n",
      "4           France              FR      Paris   male  1903  physics   \n",
      "\n",
      "  overallMotivation  share                                         motivation  \\\n",
      "0               NaN      1  \"in recognition of the extraordinary services ...   \n",
      "1               NaN      2  \"in recognition of the extraordinary service t...   \n",
      "2               NaN      2  \"in recognition of the extraordinary service t...   \n",
      "3               NaN      2  \"in recognition of the extraordinary services ...   \n",
      "4               NaN      4  \"in recognition of the extraordinary services ...   \n",
      "\n",
      "                                                name       city  \\\n",
      "0                                  Munich University     Munich   \n",
      "1                                  Leiden University     Leiden   \n",
      "2                               Amsterdam University  Amsterdam   \n",
      "3                                École Polytechnique      Paris   \n",
      "4  École municipale de physique et de chimie indu...      Paris   \n",
      "\n",
      "           country  \n",
      "0          Germany  \n",
      "1  the Netherlands  \n",
      "2  the Netherlands  \n",
      "3           France  \n",
      "4           France  \n"
     ]
    }
   ],
   "source": [
    "print(nobel.head())"
   ]
  },
  {
   "cell_type": "code",
   "execution_count": 4,
   "id": "13f2c732-cb0f-429d-9b34-5469ba0dd760",
   "metadata": {},
   "outputs": [
    {
     "name": "stdout",
     "output_type": "stream",
     "text": [
      "<class 'pandas.core.frame.DataFrame'>\n",
      "RangeIndex: 975 entries, 0 to 974\n",
      "Data columns (total 20 columns):\n",
      " #   Column             Non-Null Count  Dtype \n",
      "---  ------             --------------  ----- \n",
      " 0   id                 975 non-null    int64 \n",
      " 1   firstname          975 non-null    object\n",
      " 2   surname            945 non-null    object\n",
      " 3   born               974 non-null    object\n",
      " 4   died               975 non-null    object\n",
      " 5   bornCountry        946 non-null    object\n",
      " 6   bornCountryCode    946 non-null    object\n",
      " 7   bornCity           943 non-null    object\n",
      " 8   diedCountry        640 non-null    object\n",
      " 9   diedCountryCode    640 non-null    object\n",
      " 10  diedCity           634 non-null    object\n",
      " 11  gender             975 non-null    object\n",
      " 12  year               975 non-null    int64 \n",
      " 13  category           975 non-null    object\n",
      " 14  overallMotivation  23 non-null     object\n",
      " 15  share              975 non-null    int64 \n",
      " 16  motivation         975 non-null    object\n",
      " 17  name               717 non-null    object\n",
      " 18  city               712 non-null    object\n",
      " 19  country            713 non-null    object\n",
      "dtypes: int64(3), object(17)\n",
      "memory usage: 152.5+ KB\n",
      "None\n"
     ]
    }
   ],
   "source": [
    "print(nobel.info())"
   ]
  },
  {
   "cell_type": "code",
   "execution_count": 5,
   "id": "3506b013-1f87-4f48-a04d-641a5647ebd6",
   "metadata": {},
   "outputs": [
    {
     "name": "stdout",
     "output_type": "stream",
     "text": [
      "    id   firstname  surname        born        died bornCountry  \\\n",
      "86  86  Richard P.  Feynman  1918-05-11  1988-02-15         USA   \n",
      "\n",
      "   bornCountryCode     bornCity diedCountry diedCountryCode        diedCity  \\\n",
      "86              US  New York NY         USA              US  Los Angeles CA   \n",
      "\n",
      "   gender  year category overallMotivation  share  \\\n",
      "86   male  1965  physics               NaN      3   \n",
      "\n",
      "                                           motivation  \\\n",
      "86  \"for their fundamental work in quantum electro...   \n",
      "\n",
      "                                            name         city country  \n",
      "86  California Institute of Technology (Caltech)  Pasadena CA     USA  \n"
     ]
    }
   ],
   "source": [
    "print(nobel[nobel[\"surname\"] == \"Feynman\"])"
   ]
  },
  {
   "cell_type": "code",
   "execution_count": 6,
   "id": "5ae4d21c-e492-47af-81fd-1eb5a113f84a",
   "metadata": {},
   "outputs": [
    {
     "name": "stdout",
     "output_type": "stream",
     "text": [
      "86    1965\n",
      "Name: year, dtype: int64\n"
     ]
    }
   ],
   "source": [
    "print(nobel[nobel[\"surname\"] == \"Feynman\"].year)"
   ]
  },
  {
   "cell_type": "code",
   "execution_count": 7,
   "id": "a3be415a-6828-478f-bf4c-73c0925dad74",
   "metadata": {},
   "outputs": [
    {
     "ename": "InvalidIndexError",
     "evalue": "(0      False\n1      False\n2      False\n3      False\n4      False\n       ...  \n970    False\n971    False\n972    False\n973    False\n974    False\nName: surname, Length: 975, dtype: bool, 'year')",
     "output_type": "error",
     "traceback": [
      "\u001b[0;31m---------------------------------------------------------------------------\u001b[0m",
      "\u001b[0;31mTypeError\u001b[0m                                 Traceback (most recent call last)",
      "File \u001b[0;32m~/Development/EDU_PROGRAMMING/LETBD8PYTHON/python_data_science/venv/lib/python3.10/site-packages/pandas/core/indexes/base.py:3800\u001b[0m, in \u001b[0;36mIndex.get_loc\u001b[0;34m(self, key, method, tolerance)\u001b[0m\n\u001b[1;32m   3799\u001b[0m \u001b[38;5;28;01mtry\u001b[39;00m:\n\u001b[0;32m-> 3800\u001b[0m     \u001b[38;5;28;01mreturn\u001b[39;00m \u001b[38;5;28;43mself\u001b[39;49m\u001b[38;5;241;43m.\u001b[39;49m\u001b[43m_engine\u001b[49m\u001b[38;5;241;43m.\u001b[39;49m\u001b[43mget_loc\u001b[49m\u001b[43m(\u001b[49m\u001b[43mcasted_key\u001b[49m\u001b[43m)\u001b[49m\n\u001b[1;32m   3801\u001b[0m \u001b[38;5;28;01mexcept\u001b[39;00m \u001b[38;5;167;01mKeyError\u001b[39;00m \u001b[38;5;28;01mas\u001b[39;00m err:\n",
      "File \u001b[0;32m~/Development/EDU_PROGRAMMING/LETBD8PYTHON/python_data_science/venv/lib/python3.10/site-packages/pandas/_libs/index.pyx:138\u001b[0m, in \u001b[0;36mpandas._libs.index.IndexEngine.get_loc\u001b[0;34m()\u001b[0m\n",
      "File \u001b[0;32m~/Development/EDU_PROGRAMMING/LETBD8PYTHON/python_data_science/venv/lib/python3.10/site-packages/pandas/_libs/index.pyx:144\u001b[0m, in \u001b[0;36mpandas._libs.index.IndexEngine.get_loc\u001b[0;34m()\u001b[0m\n",
      "\u001b[0;31mTypeError\u001b[0m: '(0      False\n1      False\n2      False\n3      False\n4      False\n       ...  \n970    False\n971    False\n972    False\n973    False\n974    False\nName: surname, Length: 975, dtype: bool, 'year')' is an invalid key",
      "\nDuring handling of the above exception, another exception occurred:\n",
      "\u001b[0;31mInvalidIndexError\u001b[0m                         Traceback (most recent call last)",
      "Cell \u001b[0;32mIn[7], line 1\u001b[0m\n\u001b[0;32m----> 1\u001b[0m \u001b[38;5;28mprint\u001b[39m(\u001b[43mnobel\u001b[49m\u001b[43m[\u001b[49m\u001b[43mnobel\u001b[49m\u001b[43m[\u001b[49m\u001b[38;5;124;43m\"\u001b[39;49m\u001b[38;5;124;43msurname\u001b[39;49m\u001b[38;5;124;43m\"\u001b[39;49m\u001b[43m]\u001b[49m\u001b[43m \u001b[49m\u001b[38;5;241;43m==\u001b[39;49m\u001b[43m \u001b[49m\u001b[38;5;124;43m\"\u001b[39;49m\u001b[38;5;124;43mFeynman\u001b[39;49m\u001b[38;5;124;43m\"\u001b[39;49m\u001b[43m,\u001b[49m\u001b[43m \u001b[49m\u001b[38;5;124;43m\"\u001b[39;49m\u001b[38;5;124;43myear\u001b[39;49m\u001b[38;5;124;43m\"\u001b[39;49m\u001b[43m]\u001b[49m)\n",
      "File \u001b[0;32m~/Development/EDU_PROGRAMMING/LETBD8PYTHON/python_data_science/venv/lib/python3.10/site-packages/pandas/core/frame.py:3805\u001b[0m, in \u001b[0;36mDataFrame.__getitem__\u001b[0;34m(self, key)\u001b[0m\n\u001b[1;32m   3803\u001b[0m \u001b[38;5;28;01mif\u001b[39;00m \u001b[38;5;28mself\u001b[39m\u001b[38;5;241m.\u001b[39mcolumns\u001b[38;5;241m.\u001b[39mnlevels \u001b[38;5;241m>\u001b[39m \u001b[38;5;241m1\u001b[39m:\n\u001b[1;32m   3804\u001b[0m     \u001b[38;5;28;01mreturn\u001b[39;00m \u001b[38;5;28mself\u001b[39m\u001b[38;5;241m.\u001b[39m_getitem_multilevel(key)\n\u001b[0;32m-> 3805\u001b[0m indexer \u001b[38;5;241m=\u001b[39m \u001b[38;5;28;43mself\u001b[39;49m\u001b[38;5;241;43m.\u001b[39;49m\u001b[43mcolumns\u001b[49m\u001b[38;5;241;43m.\u001b[39;49m\u001b[43mget_loc\u001b[49m\u001b[43m(\u001b[49m\u001b[43mkey\u001b[49m\u001b[43m)\u001b[49m\n\u001b[1;32m   3806\u001b[0m \u001b[38;5;28;01mif\u001b[39;00m is_integer(indexer):\n\u001b[1;32m   3807\u001b[0m     indexer \u001b[38;5;241m=\u001b[39m [indexer]\n",
      "File \u001b[0;32m~/Development/EDU_PROGRAMMING/LETBD8PYTHON/python_data_science/venv/lib/python3.10/site-packages/pandas/core/indexes/base.py:3807\u001b[0m, in \u001b[0;36mIndex.get_loc\u001b[0;34m(self, key, method, tolerance)\u001b[0m\n\u001b[1;32m   3802\u001b[0m         \u001b[38;5;28;01mraise\u001b[39;00m \u001b[38;5;167;01mKeyError\u001b[39;00m(key) \u001b[38;5;28;01mfrom\u001b[39;00m \u001b[38;5;21;01merr\u001b[39;00m\n\u001b[1;32m   3803\u001b[0m     \u001b[38;5;28;01mexcept\u001b[39;00m \u001b[38;5;167;01mTypeError\u001b[39;00m:\n\u001b[1;32m   3804\u001b[0m         \u001b[38;5;66;03m# If we have a listlike key, _check_indexing_error will raise\u001b[39;00m\n\u001b[1;32m   3805\u001b[0m         \u001b[38;5;66;03m#  InvalidIndexError. Otherwise we fall through and re-raise\u001b[39;00m\n\u001b[1;32m   3806\u001b[0m         \u001b[38;5;66;03m#  the TypeError.\u001b[39;00m\n\u001b[0;32m-> 3807\u001b[0m         \u001b[38;5;28;43mself\u001b[39;49m\u001b[38;5;241;43m.\u001b[39;49m\u001b[43m_check_indexing_error\u001b[49m\u001b[43m(\u001b[49m\u001b[43mkey\u001b[49m\u001b[43m)\u001b[49m\n\u001b[1;32m   3808\u001b[0m         \u001b[38;5;28;01mraise\u001b[39;00m\n\u001b[1;32m   3810\u001b[0m \u001b[38;5;66;03m# GH#42269\u001b[39;00m\n",
      "File \u001b[0;32m~/Development/EDU_PROGRAMMING/LETBD8PYTHON/python_data_science/venv/lib/python3.10/site-packages/pandas/core/indexes/base.py:5963\u001b[0m, in \u001b[0;36mIndex._check_indexing_error\u001b[0;34m(self, key)\u001b[0m\n\u001b[1;32m   5959\u001b[0m \u001b[38;5;28;01mdef\u001b[39;00m \u001b[38;5;21m_check_indexing_error\u001b[39m(\u001b[38;5;28mself\u001b[39m, key):\n\u001b[1;32m   5960\u001b[0m     \u001b[38;5;28;01mif\u001b[39;00m \u001b[38;5;129;01mnot\u001b[39;00m is_scalar(key):\n\u001b[1;32m   5961\u001b[0m         \u001b[38;5;66;03m# if key is not a scalar, directly raise an error (the code below\u001b[39;00m\n\u001b[1;32m   5962\u001b[0m         \u001b[38;5;66;03m# would convert to numpy arrays and raise later any way) - GH29926\u001b[39;00m\n\u001b[0;32m-> 5963\u001b[0m         \u001b[38;5;28;01mraise\u001b[39;00m InvalidIndexError(key)\n",
      "\u001b[0;31mInvalidIndexError\u001b[0m: (0      False\n1      False\n2      False\n3      False\n4      False\n       ...  \n970    False\n971    False\n972    False\n973    False\n974    False\nName: surname, Length: 975, dtype: bool, 'year')"
     ]
    }
   ],
   "source": [
    "print(nobel[nobel[\"surname\"] == \"Feynman\", \"year\"])"
   ]
  },
  {
   "cell_type": "code",
   "execution_count": 8,
   "id": "549bb523-efe1-48d3-b222-17daf7f53376",
   "metadata": {},
   "outputs": [
    {
     "name": "stdout",
     "output_type": "stream",
     "text": [
      "86    1965\n",
      "Name: year, dtype: int64\n"
     ]
    }
   ],
   "source": [
    "print(nobel.loc[nobel[\"surname\"] == \"Feynman\", \"year\"])"
   ]
  },
  {
   "cell_type": "code",
   "execution_count": 9,
   "id": "54b4c514-3d6d-4a36-b523-9292b952dce4",
   "metadata": {},
   "outputs": [
    {
     "name": "stdout",
     "output_type": "stream",
     "text": [
      "Series([], Name: year, dtype: int64)\n"
     ]
    }
   ],
   "source": [
    "print(nobel.loc[nobel[\"firstname\"] == \"Kip\", \"year\"])"
   ]
  },
  {
   "cell_type": "code",
   "execution_count": 10,
   "id": "663d0d3b-a73f-49fb-a185-6eb63da2a27f",
   "metadata": {},
   "outputs": [
    {
     "name": "stdout",
     "output_type": "stream",
     "text": [
      "916    2017\n",
      "Name: year, dtype: int64\n"
     ]
    }
   ],
   "source": [
    "print(nobel.loc[nobel[\"firstname\"] == \"Kip S.\", \"year\"])"
   ]
  },
  {
   "cell_type": "code",
   "execution_count": 11,
   "id": "a569a45e-0024-4c6c-b4f2-76fba155fb44",
   "metadata": {},
   "outputs": [
    {
     "name": "stdout",
     "output_type": "stream",
     "text": [
      "      id firstname surname        born        died bornCountry  \\\n",
      "916  943    Kip S.  Thorne  1940-06-01  0000-00-00         USA   \n",
      "\n",
      "    bornCountryCode  bornCity diedCountry diedCountryCode diedCity gender  \\\n",
      "916              US  Logan UT         NaN             NaN      NaN   male   \n",
      "\n",
      "     year category overallMotivation  share  \\\n",
      "916  2017  physics               NaN      4   \n",
      "\n",
      "                                            motivation  \\\n",
      "916  \"for decisive contributions to the LIGO detect...   \n",
      "\n",
      "                         name city country  \n",
      "916  LIGO/VIRGO Collaboration  NaN     NaN  \n"
     ]
    }
   ],
   "source": [
    "print(nobel.loc[nobel[\"firstname\"] == \"Kip S.\"])"
   ]
  },
  {
   "cell_type": "code",
   "execution_count": 12,
   "id": "559443ef-0c3d-4d67-8855-fdaf2bc0c5ca",
   "metadata": {},
   "outputs": [
    {
     "name": "stdout",
     "output_type": "stream",
     "text": [
      "916    2017\n",
      "Name: year, dtype: int64\n"
     ]
    }
   ],
   "source": [
    "print(nobel.loc[nobel[\"firstname\"] == \"Kip S.\"].year)"
   ]
  },
  {
   "cell_type": "code",
   "execution_count": 13,
   "id": "563995c1-bdcf-4117-b382-81251fef2898",
   "metadata": {},
   "outputs": [
    {
     "name": "stdout",
     "output_type": "stream",
     "text": [
      "      id firstname surname        born        died bornCountry  \\\n",
      "916  943    Kip S.  Thorne  1940-06-01  0000-00-00         USA   \n",
      "\n",
      "    bornCountryCode  bornCity diedCountry diedCountryCode diedCity gender  \\\n",
      "916              US  Logan UT         NaN             NaN      NaN   male   \n",
      "\n",
      "     year category overallMotivation  share  \\\n",
      "916  2017  physics               NaN      4   \n",
      "\n",
      "                                            motivation  \\\n",
      "916  \"for decisive contributions to the LIGO detect...   \n",
      "\n",
      "                         name city country  \n",
      "916  LIGO/VIRGO Collaboration  NaN     NaN  \n"
     ]
    }
   ],
   "source": [
    "print(nobel.loc[nobel[\"firstname\"].str.contains(\"Kip\")])"
   ]
  },
  {
   "cell_type": "code",
   "execution_count": 14,
   "id": "d414edf1-3ec0-439c-94b4-be9877ed7152",
   "metadata": {},
   "outputs": [
    {
     "ename": "ValueError",
     "evalue": "Cannot mask with non-boolean array containing NA / NaN values",
     "output_type": "error",
     "traceback": [
      "\u001b[0;31m---------------------------------------------------------------------------\u001b[0m",
      "\u001b[0;31mValueError\u001b[0m                                Traceback (most recent call last)",
      "Cell \u001b[0;32mIn[14], line 1\u001b[0m\n\u001b[0;32m----> 1\u001b[0m \u001b[38;5;28mprint\u001b[39m(\u001b[43mnobel\u001b[49m\u001b[38;5;241;43m.\u001b[39;49m\u001b[43mloc\u001b[49m\u001b[43m[\u001b[49m\u001b[43mnobel\u001b[49m\u001b[43m[\u001b[49m\u001b[38;5;124;43m\"\u001b[39;49m\u001b[38;5;124;43msurname\u001b[39;49m\u001b[38;5;124;43m\"\u001b[39;49m\u001b[43m]\u001b[49m\u001b[38;5;241;43m.\u001b[39;49m\u001b[43mstr\u001b[49m\u001b[38;5;241;43m.\u001b[39;49m\u001b[43mcontains\u001b[49m\u001b[43m(\u001b[49m\u001b[38;5;124;43m\"\u001b[39;49m\u001b[38;5;124;43mFeynman\u001b[39;49m\u001b[38;5;124;43m\"\u001b[39;49m\u001b[43m)\u001b[49m\u001b[43m]\u001b[49m)\n",
      "File \u001b[0;32m~/Development/EDU_PROGRAMMING/LETBD8PYTHON/python_data_science/venv/lib/python3.10/site-packages/pandas/core/indexing.py:1074\u001b[0m, in \u001b[0;36m_LocationIndexer.__getitem__\u001b[0;34m(self, key)\u001b[0m\n\u001b[1;32m   1071\u001b[0m axis \u001b[38;5;241m=\u001b[39m \u001b[38;5;28mself\u001b[39m\u001b[38;5;241m.\u001b[39maxis \u001b[38;5;129;01mor\u001b[39;00m \u001b[38;5;241m0\u001b[39m\n\u001b[1;32m   1073\u001b[0m maybe_callable \u001b[38;5;241m=\u001b[39m com\u001b[38;5;241m.\u001b[39mapply_if_callable(key, \u001b[38;5;28mself\u001b[39m\u001b[38;5;241m.\u001b[39mobj)\n\u001b[0;32m-> 1074\u001b[0m \u001b[38;5;28;01mreturn\u001b[39;00m \u001b[38;5;28;43mself\u001b[39;49m\u001b[38;5;241;43m.\u001b[39;49m\u001b[43m_getitem_axis\u001b[49m\u001b[43m(\u001b[49m\u001b[43mmaybe_callable\u001b[49m\u001b[43m,\u001b[49m\u001b[43m \u001b[49m\u001b[43maxis\u001b[49m\u001b[38;5;241;43m=\u001b[39;49m\u001b[43maxis\u001b[49m\u001b[43m)\u001b[49m\n",
      "File \u001b[0;32m~/Development/EDU_PROGRAMMING/LETBD8PYTHON/python_data_science/venv/lib/python3.10/site-packages/pandas/core/indexing.py:1292\u001b[0m, in \u001b[0;36m_LocIndexer._getitem_axis\u001b[0;34m(self, key, axis)\u001b[0m\n\u001b[1;32m   1290\u001b[0m     \u001b[38;5;28mself\u001b[39m\u001b[38;5;241m.\u001b[39m_validate_key(key, axis)\n\u001b[1;32m   1291\u001b[0m     \u001b[38;5;28;01mreturn\u001b[39;00m \u001b[38;5;28mself\u001b[39m\u001b[38;5;241m.\u001b[39m_get_slice_axis(key, axis\u001b[38;5;241m=\u001b[39maxis)\n\u001b[0;32m-> 1292\u001b[0m \u001b[38;5;28;01melif\u001b[39;00m \u001b[43mcom\u001b[49m\u001b[38;5;241;43m.\u001b[39;49m\u001b[43mis_bool_indexer\u001b[49m\u001b[43m(\u001b[49m\u001b[43mkey\u001b[49m\u001b[43m)\u001b[49m:\n\u001b[1;32m   1293\u001b[0m     \u001b[38;5;28;01mreturn\u001b[39;00m \u001b[38;5;28mself\u001b[39m\u001b[38;5;241m.\u001b[39m_getbool_axis(key, axis\u001b[38;5;241m=\u001b[39maxis)\n\u001b[1;32m   1294\u001b[0m \u001b[38;5;28;01melif\u001b[39;00m is_list_like_indexer(key):\n\u001b[1;32m   1295\u001b[0m \n\u001b[1;32m   1296\u001b[0m     \u001b[38;5;66;03m# an iterable multi-selection\u001b[39;00m\n",
      "File \u001b[0;32m~/Development/EDU_PROGRAMMING/LETBD8PYTHON/python_data_science/venv/lib/python3.10/site-packages/pandas/core/common.py:135\u001b[0m, in \u001b[0;36mis_bool_indexer\u001b[0;34m(key)\u001b[0m\n\u001b[1;32m    131\u001b[0m     na_msg \u001b[38;5;241m=\u001b[39m \u001b[38;5;124m\"\u001b[39m\u001b[38;5;124mCannot mask with non-boolean array containing NA / NaN values\u001b[39m\u001b[38;5;124m\"\u001b[39m\n\u001b[1;32m    132\u001b[0m     \u001b[38;5;28;01mif\u001b[39;00m lib\u001b[38;5;241m.\u001b[39minfer_dtype(key_array) \u001b[38;5;241m==\u001b[39m \u001b[38;5;124m\"\u001b[39m\u001b[38;5;124mboolean\u001b[39m\u001b[38;5;124m\"\u001b[39m \u001b[38;5;129;01mand\u001b[39;00m isna(key_array)\u001b[38;5;241m.\u001b[39many():\n\u001b[1;32m    133\u001b[0m         \u001b[38;5;66;03m# Don't raise on e.g. [\"A\", \"B\", np.nan], see\u001b[39;00m\n\u001b[1;32m    134\u001b[0m         \u001b[38;5;66;03m#  test_loc_getitem_list_of_labels_categoricalindex_with_na\u001b[39;00m\n\u001b[0;32m--> 135\u001b[0m         \u001b[38;5;28;01mraise\u001b[39;00m \u001b[38;5;167;01mValueError\u001b[39;00m(na_msg)\n\u001b[1;32m    136\u001b[0m     \u001b[38;5;28;01mreturn\u001b[39;00m \u001b[38;5;28;01mFalse\u001b[39;00m\n\u001b[1;32m    137\u001b[0m \u001b[38;5;28;01mreturn\u001b[39;00m \u001b[38;5;28;01mTrue\u001b[39;00m\n",
      "\u001b[0;31mValueError\u001b[0m: Cannot mask with non-boolean array containing NA / NaN values"
     ]
    }
   ],
   "source": [
    "print(nobel.loc[nobel[\"surname\"].str.contains(\"Feynman\")])"
   ]
  },
  {
   "cell_type": "code",
   "execution_count": 15,
   "id": "ca53b177-6cb0-4540-be02-41d06a5e698c",
   "metadata": {},
   "outputs": [
    {
     "name": "stdout",
     "output_type": "stream",
     "text": [
      "      id                                          firstname surname  \\\n",
      "465  467                     Institute of International Law     NaN   \n",
      "474  477               Permanent International Peace Bureau     NaN   \n",
      "479  482           International Committee of the Red Cross     NaN   \n",
      "480  482           International Committee of the Red Cross     NaN   \n",
      "481  482           International Committee of the Red Cross     NaN   \n",
      "502  503           Nansen International Office for Refugees     NaN   \n",
      "506  508                            Friends Service Council     NaN   \n",
      "507  509                 American Friends Service Committee     NaN   \n",
      "513  515  Office of the United Nations High Commissioner...     NaN   \n",
      "514  515  Office of the United Nations High Commissioner...     NaN   \n",
      "520  523                      League of Red Cross Societies     NaN   \n",
      "522  525                     United Nations Children's Fund     NaN   \n",
      "524  527                  International Labour Organization     NaN   \n",
      "528  531                                         Le Duc Tho     NaN   \n",
      "534  537                              Amnesty International     NaN   \n",
      "543  547  International Physicians for the Prevention of...     NaN   \n",
      "546  550                 United Nations Peacekeeping Forces     NaN   \n",
      "549  553                                   Aung San Suu Kyi     NaN   \n",
      "557  561   Pugwash Conferences on Science and World Affairs     NaN   \n",
      "560  564            International Campaign to Ban Landmines     NaN   \n",
      "564  568                            Doctors Without Borders     NaN   \n",
      "732  748                                     United Nations     NaN   \n",
      "778  797                 International Atomic Energy Agency     NaN   \n",
      "791  810                                       Grameen Bank     NaN   \n",
      "799  818          Intergovernmental Panel on Climate Change     NaN   \n",
      "860  881                                     European Union     NaN   \n",
      "872  893  Organisation for the Prohibition of Chemical W...     NaN   \n",
      "898  925                          National Dialogue Quartet     NaN   \n",
      "921  948  International Campaign to Abolish Nuclear Weapons     NaN   \n",
      "959  994                               World Food Programme     NaN   \n",
      "\n",
      "           born        died          bornCountry bornCountryCode  \\\n",
      "465  1873-00-00  0000-00-00                  NaN             NaN   \n",
      "474  1891-00-00  0000-00-00                  NaN             NaN   \n",
      "479  1863-00-00  0000-00-00                  NaN             NaN   \n",
      "480  1863-00-00  0000-00-00                  NaN             NaN   \n",
      "481  1863-00-00  0000-00-00                  NaN             NaN   \n",
      "502  1921-00-00  0000-00-00                  NaN             NaN   \n",
      "506  1647-00-00  0000-00-00                  NaN             NaN   \n",
      "507  1917-00-00  0000-00-00                  NaN             NaN   \n",
      "513  1950-12-14  0000-00-00                  NaN             NaN   \n",
      "514  1950-12-14  0000-00-00                  NaN             NaN   \n",
      "520  1919-00-00  0000-00-00                  NaN             NaN   \n",
      "522  1946-00-00  0000-00-00                  NaN             NaN   \n",
      "524  1919-00-00  0000-00-00                  NaN             NaN   \n",
      "528  1911-10-14  1990-10-13              Vietnam              VN   \n",
      "534  1961-00-00  0000-00-00                  NaN             NaN   \n",
      "543  1980-00-00  0000-00-00                  NaN             NaN   \n",
      "546  1948-00-00  0000-00-00                  NaN             NaN   \n",
      "549  1945-06-19  0000-00-00  Burma (now Myanmar)              MM   \n",
      "557  1957-00-00  0000-00-00                  NaN             NaN   \n",
      "560  1992-00-00  0000-00-00                  NaN             NaN   \n",
      "564  1971-00-00  0000-00-00                  NaN             NaN   \n",
      "732  1945-00-00  0000-00-00                  NaN             NaN   \n",
      "778  1957-00-00  0000-00-00                  NaN             NaN   \n",
      "791  1976-00-00  0000-00-00                  NaN             NaN   \n",
      "799  1988-00-00  0000-00-00                  NaN             NaN   \n",
      "860  1952-00-00  0000-00-00                  NaN             NaN   \n",
      "872  1997-00-00  0000-00-00                  NaN             NaN   \n",
      "898         NaN  0000-00-00                  NaN             NaN   \n",
      "921  2007-00-00  0000-00-00                  NaN             NaN   \n",
      "959  1961-00-00  0000-00-00                  NaN             NaN   \n",
      "\n",
      "                 bornCity diedCountry diedCountryCode diedCity  gender  year  \\\n",
      "465                   NaN         NaN             NaN      NaN     org  1904   \n",
      "474                   NaN         NaN             NaN      NaN     org  1910   \n",
      "479                   NaN         NaN             NaN      NaN     org  1917   \n",
      "480                   NaN         NaN             NaN      NaN     org  1944   \n",
      "481                   NaN         NaN             NaN      NaN     org  1963   \n",
      "502                   NaN         NaN             NaN      NaN     org  1938   \n",
      "506                   NaN         NaN             NaN      NaN     org  1947   \n",
      "507                   NaN         NaN             NaN      NaN     org  1947   \n",
      "513                   NaN         NaN             NaN      NaN     org  1954   \n",
      "514                   NaN         NaN             NaN      NaN     org  1981   \n",
      "520                   NaN         NaN             NaN      NaN     org  1963   \n",
      "522                   NaN         NaN             NaN      NaN     org  1965   \n",
      "524                   NaN         NaN             NaN      NaN     org  1969   \n",
      "528       Nam Ha province     Vietnam              VN    Hanoi    male  1973   \n",
      "534                   NaN         NaN             NaN      NaN     org  1977   \n",
      "543                   NaN         NaN             NaN      NaN     org  1985   \n",
      "546                   NaN         NaN             NaN      NaN     org  1988   \n",
      "549  Rangoon (now Yangon)         NaN             NaN      NaN  female  1991   \n",
      "557                   NaN         NaN             NaN      NaN     org  1995   \n",
      "560                   NaN         NaN             NaN      NaN     org  1997   \n",
      "564                   NaN         NaN             NaN      NaN     org  1999   \n",
      "732                   NaN         NaN             NaN      NaN     org  2001   \n",
      "778                   NaN         NaN             NaN      NaN     org  2005   \n",
      "791                   NaN         NaN             NaN      NaN     org  2006   \n",
      "799                   NaN         NaN             NaN      NaN     org  2007   \n",
      "860                   NaN         NaN             NaN      NaN     org  2012   \n",
      "872                   NaN         NaN             NaN      NaN     org  2013   \n",
      "898                   NaN         NaN             NaN      NaN     org  2015   \n",
      "921                   NaN         NaN             NaN      NaN     org  2017   \n",
      "959                   NaN         NaN             NaN      NaN     org  2020   \n",
      "\n",
      "    category overallMotivation  share  \\\n",
      "465    peace               NaN      1   \n",
      "474    peace               NaN      1   \n",
      "479    peace               NaN      1   \n",
      "480    peace               NaN      1   \n",
      "481    peace               NaN      2   \n",
      "502    peace               NaN      1   \n",
      "506    peace               NaN      2   \n",
      "507    peace               NaN      2   \n",
      "513    peace               NaN      1   \n",
      "514    peace               NaN      1   \n",
      "520    peace               NaN      2   \n",
      "522    peace               NaN      1   \n",
      "524    peace               NaN      1   \n",
      "528    peace               NaN      2   \n",
      "534    peace               NaN      1   \n",
      "543    peace               NaN      1   \n",
      "546    peace               NaN      1   \n",
      "549    peace               NaN      1   \n",
      "557    peace               NaN      2   \n",
      "560    peace               NaN      2   \n",
      "564    peace               NaN      1   \n",
      "732    peace               NaN      2   \n",
      "778    peace               NaN      2   \n",
      "791    peace               NaN      2   \n",
      "799    peace               NaN      2   \n",
      "860    peace               NaN      1   \n",
      "872    peace               NaN      1   \n",
      "898    peace               NaN      1   \n",
      "921    peace               NaN      1   \n",
      "959    peace               NaN      1   \n",
      "\n",
      "                                            motivation name city country  \n",
      "465  \"for its striving in public law to develop pea...  NaN  NaN     NaN  \n",
      "474  \"for acting as a link between the peace societ...  NaN  NaN     NaN  \n",
      "479  \"for the efforts to take care of wounded soldi...  NaN  NaN     NaN  \n",
      "480  \"for the great work it has performed during th...  NaN  NaN     NaN  \n",
      "481  \"for promoting the principles of the Geneva Co...  NaN  NaN     NaN  \n",
      "502  \"for having carried on the work of Fridtjof Na...  NaN  NaN     NaN  \n",
      "506  \"for their pioneering work in the internationa...  NaN  NaN     NaN  \n",
      "507  \"for their pioneering work in the internationa...  NaN  NaN     NaN  \n",
      "513  \"for its efforts to heal the wounds of war by ...  NaN  NaN     NaN  \n",
      "514  \"for promoting the fundamental rights of refug...  NaN  NaN     NaN  \n",
      "520  \"for promoting the principles of the Geneva Co...  NaN  NaN     NaN  \n",
      "522  \"for its effort to enhance solidarity between ...  NaN  NaN     NaN  \n",
      "524  \"for creating international legislation insuri...  NaN  NaN     NaN  \n",
      "528  \"for jointly having negotiated a cease fire in...  NaN  NaN     NaN  \n",
      "534           \"for worldwide respect for human rights\"  NaN  NaN     NaN  \n",
      "543  \"for spreading authoritative information and b...  NaN  NaN     NaN  \n",
      "546  \"for preventing armed clashes and creating con...  NaN  NaN     NaN  \n",
      "549  \"for her non-violent struggle for democracy an...  NaN  NaN     NaN  \n",
      "557  \"for their efforts to diminish the part played...  NaN  NaN     NaN  \n",
      "560  \"for their work for the banning and clearing o...  NaN  NaN     NaN  \n",
      "564  \"in recognition of the organisation's pioneeri...  NaN  NaN     NaN  \n",
      "732  \"for their work for a better organized and mor...  NaN  NaN     NaN  \n",
      "778  \"for their efforts to prevent nuclear energy f...  NaN  NaN     NaN  \n",
      "791  \"for their efforts to create economic and soci...  NaN  NaN     NaN  \n",
      "799  \"for their efforts to build up and disseminate...  NaN  NaN     NaN  \n",
      "860  \"for over six decades contributed to the advan...  NaN  NaN     NaN  \n",
      "872  \"for its extensive efforts to eliminate chemic...  NaN  NaN     NaN  \n",
      "898  \"for its decisive contribution to the building...  NaN  NaN     NaN  \n",
      "921  \"for its work to draw attention to the catastr...  NaN  NaN     NaN  \n",
      "959  \"for its efforts to combat hunger for its cont...  NaN  NaN     NaN  \n"
     ]
    }
   ],
   "source": [
    "print(nobel.loc[nobel[\"surname\"].isnull()])"
   ]
  },
  {
   "cell_type": "code",
   "execution_count": 16,
   "id": "69df88d6-2207-4e22-8ab6-f6c36cd427f7",
   "metadata": {},
   "outputs": [
    {
     "name": "stdout",
     "output_type": "stream",
     "text": [
      "    id   firstname  surname        born        died bornCountry  \\\n",
      "86  86  Richard P.  Feynman  1918-05-11  1988-02-15         USA   \n",
      "\n",
      "   bornCountryCode     bornCity diedCountry diedCountryCode        diedCity  \\\n",
      "86              US  New York NY         USA              US  Los Angeles CA   \n",
      "\n",
      "   gender  year category overallMotivation  share  \\\n",
      "86   male  1965  physics               NaN      3   \n",
      "\n",
      "                                           motivation  \\\n",
      "86  \"for their fundamental work in quantum electro...   \n",
      "\n",
      "                                            name         city country  \n",
      "86  California Institute of Technology (Caltech)  Pasadena CA     USA  \n"
     ]
    }
   ],
   "source": [
    "print(nobel.loc[nobel[\"surname\"].str.contains(\"Feynman\", na=False)])"
   ]
  },
  {
   "cell_type": "code",
   "execution_count": 17,
   "id": "deed7400-2b7b-462a-a97a-92a118a45937",
   "metadata": {},
   "outputs": [
    {
     "name": "stdout",
     "output_type": "stream",
     "text": [
      "1\n"
     ]
    }
   ],
   "source": [
    "print(len(nobel.loc[nobel[\"surname\"].str.contains(\"Feynman\", na=False)]))"
   ]
  },
  {
   "cell_type": "code",
   "execution_count": 18,
   "id": "8f456028-d326-4653-96fe-5104217e8a77",
   "metadata": {},
   "outputs": [
    {
     "name": "stdout",
     "output_type": "stream",
     "text": [
      "      id firstname       surname        born        died  \\\n",
      "4      5    Pierre         Curie  1859-05-15  1906-04-19   \n",
      "5      6     Marie         Curie  1867-11-07  1934-07-04   \n",
      "6      6     Marie         Curie  1867-11-07  1934-07-04   \n",
      "191  194     Irène  Joliot-Curie  1897-09-12  1956-03-17   \n",
      "\n",
      "                     bornCountry bornCountryCode bornCity diedCountry  \\\n",
      "4                         France              FR    Paris      France   \n",
      "5    Russian Empire (now Poland)              PL   Warsaw      France   \n",
      "6    Russian Empire (now Poland)              PL   Warsaw      France   \n",
      "191                       France              FR    Paris      France   \n",
      "\n",
      "    diedCountryCode    diedCity  gender  year   category overallMotivation  \\\n",
      "4                FR       Paris    male  1903    physics               NaN   \n",
      "5                FR  Sallanches  female  1903    physics               NaN   \n",
      "6                FR  Sallanches  female  1911  chemistry               NaN   \n",
      "191              FR       Paris  female  1935  chemistry               NaN   \n",
      "\n",
      "     share                                         motivation  \\\n",
      "4        4  \"in recognition of the extraordinary services ...   \n",
      "5        4  \"in recognition of the extraordinary services ...   \n",
      "6        1  \"in recognition of her services to the advance...   \n",
      "191      2  \"in recognition of their synthesis of new radi...   \n",
      "\n",
      "                                                  name   city country  \n",
      "4    École municipale de physique et de chimie indu...  Paris  France  \n",
      "5                                                  NaN    NaN     NaN  \n",
      "6                                  Sorbonne University  Paris  France  \n",
      "191                                 Institut du Radium  Paris  France  \n"
     ]
    }
   ],
   "source": [
    "curies = nobel.loc[nobel[\"surname\"].str.contains(\"Curie\", na=False)]\n",
    "print(curies)"
   ]
  },
  {
   "cell_type": "code",
   "execution_count": 19,
   "id": "4b02a5f4-6d52-4e8e-81fa-49e0b654f056",
   "metadata": {},
   "outputs": [
    {
     "name": "stdout",
     "output_type": "stream",
     "text": [
      "    firstname       surname\n",
      "4      Pierre         Curie\n",
      "5       Marie         Curie\n",
      "6       Marie         Curie\n",
      "191     Irène  Joliot-Curie\n"
     ]
    }
   ],
   "source": [
    "print(curies[[\"firstname\", \"surname\"]])"
   ]
  },
  {
   "cell_type": "code",
   "execution_count": 20,
   "id": "23c969c2-e880-4129-88b7-8790ab7e9828",
   "metadata": {},
   "outputs": [
    {
     "name": "stdout",
     "output_type": "stream",
     "text": [
      "firstname   surname    \n",
      "A. Michael  Spence         1\n",
      "Aage N.     Bohr           1\n",
      "Aaron       Ciechanover    1\n",
      "            Klug           1\n",
      "Abdulrazak  Gurnah         1\n",
      "                          ..\n",
      "Youyou      Tu             1\n",
      "Yuan T.     Lee            1\n",
      "Yves        Chauvin        1\n",
      "Zhores      Alferov        1\n",
      "Élie        Ducommun       1\n",
      "Length: 941, dtype: int64\n"
     ]
    }
   ],
   "source": [
    "print(nobel.groupby([\"firstname\", \"surname\"]).size())"
   ]
  },
  {
   "cell_type": "code",
   "execution_count": 21,
   "id": "a4e99486-6d1e-44ac-8c6d-e09068d8cd8e",
   "metadata": {},
   "outputs": [
    {
     "name": "stdout",
     "output_type": "stream",
     "text": [
      "firstname     surname \n",
      "A. Michael    Spence      1\n",
      "Nicolay G.    Basov       1\n",
      "Niels         Bohr        1\n",
      "Niels K.      Jerne       1\n",
      "Niels Ryberg  Finsen      1\n",
      "                         ..\n",
      "Élie          Ducommun    1\n",
      "Linus         Pauling     2\n",
      "John          Bardeen     2\n",
      "Frederick     Sanger      2\n",
      "Marie         Curie       2\n",
      "Length: 941, dtype: int64\n"
     ]
    }
   ],
   "source": [
    "print(nobel.groupby([\"firstname\", \"surname\"]).size().sort_values())"
   ]
  },
  {
   "cell_type": "code",
   "execution_count": 22,
   "id": "f490ccd9-e142-40c5-a451-b2a7f8c2f4a9",
   "metadata": {},
   "outputs": [
    {
     "name": "stdout",
     "output_type": "stream",
     "text": [
      "id   firstname  surname\n",
      "6    Marie      Curie      2\n",
      "66   John       Bardeen    2\n",
      "217  Linus      Pauling    2\n",
      "222  Frederick  Sanger     2\n",
      "dtype: int64\n"
     ]
    }
   ],
   "source": [
    "laureates = nobel.groupby([\"id\", \"firstname\", \"surname\"])\n",
    "sizes = laureates.size()\n",
    "print(sizes[sizes > 1])"
   ]
  },
  {
   "cell_type": "code",
   "execution_count": 23,
   "id": "2832a267-bc3a-460c-b9d2-e8ee25023507",
   "metadata": {},
   "outputs": [
    {
     "name": "stdout",
     "output_type": "stream",
     "text": [
      "    id firstname   surname        born        died bornCountry  \\\n",
      "25  26    Albert  Einstein  1879-03-14  1955-04-18     Germany   \n",
      "\n",
      "   bornCountryCode bornCity diedCountry diedCountryCode      diedCity gender  \\\n",
      "25              DE      Ulm         USA              US  Princeton NJ   male   \n",
      "\n",
      "    year category overallMotivation  share  \\\n",
      "25  1921  physics               NaN      1   \n",
      "\n",
      "                                           motivation  \\\n",
      "25  \"for his services to Theoretical Physics and e...   \n",
      "\n",
      "                                                 name    city  country  \n",
      "25  Kaiser-Wilhelm-Institut (now Max-Planck-Instit...  Berlin  Germany  \n"
     ]
    }
   ],
   "source": [
    "print(nobel.loc[nobel[\"born\"] == \"1879-03-14\"])"
   ]
  },
  {
   "cell_type": "code",
   "execution_count": 24,
   "id": "1d27e1cc-402a-4a2a-99d9-b260fd4bf3b3",
   "metadata": {},
   "outputs": [
    {
     "name": "stdout",
     "output_type": "stream",
     "text": [
      "25    Einstein\n",
      "Name: surname, dtype: object\n"
     ]
    }
   ],
   "source": [
    "print(nobel.loc[nobel[\"born\"] == \"1879-03-14\"][\"surname\"])"
   ]
  },
  {
   "cell_type": "code",
   "execution_count": 25,
   "id": "719f3902-c403-482e-ab69-83aa84028cd1",
   "metadata": {},
   "outputs": [
    {
     "name": "stdout",
     "output_type": "stream",
     "text": [
      "      id    firstname         surname        born        died  \\\n",
      "79    79        Maria  Goeppert Mayer  1906-06-28  1972-02-20   \n",
      "125  126        Klaus    von Klitzing  1943-06-28  0000-00-00   \n",
      "281  283  F. Sherwood         Rowland  1927-06-28  2012-03-10   \n",
      "304  306       Alexis          Carrel  1873-06-28  1944-11-05   \n",
      "598  607        Luigi      Pirandello  1867-06-28  1936-12-10   \n",
      "790  809     Muhammad           Yunus  1940-06-28  0000-00-00   \n",
      "889  916   William C.        Campbell  1930-06-28  0000-00-00   \n",
      "\n",
      "                             bornCountry bornCountryCode  \\\n",
      "79                  Germany (now Poland)              PL   \n",
      "125  German-occupied Poland (now Poland)              PL   \n",
      "281                                  USA              US   \n",
      "304                               France              FR   \n",
      "598                                Italy              IT   \n",
      "790       British India (now Bangladesh)              BD   \n",
      "889                              Ireland              IE   \n",
      "\n",
      "                     bornCity diedCountry diedCountryCode           diedCity  \\\n",
      "79   Kattowitz (now Katowice)         USA              US       San Diego CA   \n",
      "125                   Schroda         NaN             NaN                NaN   \n",
      "281               Delaware OH         USA              US  Corona del Mar CA   \n",
      "304       Sainte-Foy-lès-Lyon      France              FR              Paris   \n",
      "598          Agrigento Sicily       Italy              IT               Rome   \n",
      "790                Chittagong         NaN             NaN                NaN   \n",
      "889                  Ramelton         NaN             NaN                NaN   \n",
      "\n",
      "     gender  year    category overallMotivation  share  \\\n",
      "79   female  1963     physics               NaN      4   \n",
      "125    male  1985     physics               NaN      1   \n",
      "281    male  1995   chemistry               NaN      3   \n",
      "304    male  1912    medicine               NaN      1   \n",
      "598    male  1934  literature               NaN      1   \n",
      "790    male  2006       peace               NaN      2   \n",
      "889    male  2015    medicine               NaN      4   \n",
      "\n",
      "                                            motivation  \\\n",
      "79   \"for their discoveries concerning nuclear shel...   \n",
      "125   \"for the discovery of the quantized Hall effect\"   \n",
      "281  \"for their work in atmospheric chemistry parti...   \n",
      "304  \"in recognition of his work on vascular suture...   \n",
      "598  \"for his bold and ingenious revival of dramati...   \n",
      "790  \"for their efforts to create economic and soci...   \n",
      "889  \"for their discoveries concerning a novel ther...   \n",
      "\n",
      "                                            name          city  country  \n",
      "79                      University of California  San Diego CA      USA  \n",
      "125  Max-Planck-Institut für Festkörperforschung     Stuttgart  Germany  \n",
      "281                     University of California     Irvine CA      USA  \n",
      "304   Rockefeller Institute for Medical Research   New York NY      USA  \n",
      "598                                          NaN           NaN      NaN  \n",
      "790                                          NaN           NaN      NaN  \n",
      "889                              Drew University    Madison NJ      USA  \n"
     ]
    }
   ],
   "source": [
    "print(nobel.loc[nobel[\"born\"].str.contains(\"06-28\", na=False)])"
   ]
  },
  {
   "cell_type": "code",
   "execution_count": 26,
   "id": "5dd874b7-86c4-4c8d-bc75-ef9b39169d6f",
   "metadata": {},
   "outputs": [
    {
     "name": "stdout",
     "output_type": "stream",
     "text": [
      "      id firstname         surname        born        died  \\\n",
      "79    79     Maria  Goeppert Mayer  1906-06-28  1972-02-20   \n",
      "125  126     Klaus    von Klitzing  1943-06-28  0000-00-00   \n",
      "\n",
      "                             bornCountry bornCountryCode  \\\n",
      "79                  Germany (now Poland)              PL   \n",
      "125  German-occupied Poland (now Poland)              PL   \n",
      "\n",
      "                     bornCity diedCountry diedCountryCode      diedCity  \\\n",
      "79   Kattowitz (now Katowice)         USA              US  San Diego CA   \n",
      "125                   Schroda         NaN             NaN           NaN   \n",
      "\n",
      "     gender  year category overallMotivation  share  \\\n",
      "79   female  1963  physics               NaN      4   \n",
      "125    male  1985  physics               NaN      1   \n",
      "\n",
      "                                            motivation  \\\n",
      "79   \"for their discoveries concerning nuclear shel...   \n",
      "125   \"for the discovery of the quantized Hall effect\"   \n",
      "\n",
      "                                            name          city  country  \n",
      "79                      University of California  San Diego CA      USA  \n",
      "125  Max-Planck-Institut für Festkörperforschung     Stuttgart  Germany  \n"
     ]
    }
   ],
   "source": [
    "print(nobel.loc[(nobel[\"born\"].astype('string').str.contains(\"06-28\")) &\n",
    "                (nobel[\"category\"] == \"physics\")])"
   ]
  },
  {
   "cell_type": "code",
   "execution_count": 27,
   "id": "a0c569e7-3c12-4505-967b-dd0f03e559b6",
   "metadata": {},
   "outputs": [
    {
     "name": "stdout",
     "output_type": "stream",
     "text": [
      "id                                                                  79\n",
      "firstname                                                        Maria\n",
      "surname                                                 Goeppert Mayer\n",
      "born                                                        1906-06-28\n",
      "died                                                        1972-02-20\n",
      "bornCountry                                       Germany (now Poland)\n",
      "bornCountryCode                                                     PL\n",
      "bornCity                                      Kattowitz (now Katowice)\n",
      "diedCountry                                                        USA\n",
      "diedCountryCode                                                     US\n",
      "diedCity                                                  San Diego CA\n",
      "gender                                                          female\n",
      "year                                                              1963\n",
      "category                                                       physics\n",
      "overallMotivation                                                  NaN\n",
      "share                                                                4\n",
      "motivation           \"for their discoveries concerning nuclear shel...\n",
      "name                                          University of California\n",
      "city                                                      San Diego CA\n",
      "country                                                            USA\n",
      "Name: 79, dtype: object\n"
     ]
    }
   ],
   "source": [
    "print(nobel.iloc[79])"
   ]
  },
  {
   "cell_type": "code",
   "execution_count": 28,
   "id": "8f05760f-0bea-4ec4-9d04-fed374597ef2",
   "metadata": {},
   "outputs": [
    {
     "name": "stdout",
     "output_type": "stream",
     "text": [
      "88    1906-07-02\n",
      "Name: born, dtype: object\n",
      "88    2005-03-06\n",
      "Name: died, dtype: object\n"
     ]
    }
   ],
   "source": [
    "bethe = nobel.loc[nobel[\"surname\"] == \"Bethe\"]\n",
    "print(bethe[\"born\"])\n",
    "print(bethe[\"died\"])"
   ]
  },
  {
   "cell_type": "code",
   "execution_count": 29,
   "id": "eda37a1f-5939-40cf-aace-d25f17f65a23",
   "metadata": {},
   "outputs": [
    {
     "ename": "TypeError",
     "evalue": "unsupported operand type(s) for -: 'str' and 'str'",
     "output_type": "error",
     "traceback": [
      "\u001b[0;31m---------------------------------------------------------------------------\u001b[0m",
      "\u001b[0;31mTypeError\u001b[0m                                 Traceback (most recent call last)",
      "File \u001b[0;32m~/Development/EDU_PROGRAMMING/LETBD8PYTHON/python_data_science/venv/lib/python3.10/site-packages/pandas/core/ops/array_ops.py:165\u001b[0m, in \u001b[0;36m_na_arithmetic_op\u001b[0;34m(left, right, op, is_cmp)\u001b[0m\n\u001b[1;32m    164\u001b[0m \u001b[38;5;28;01mtry\u001b[39;00m:\n\u001b[0;32m--> 165\u001b[0m     result \u001b[38;5;241m=\u001b[39m \u001b[43mfunc\u001b[49m\u001b[43m(\u001b[49m\u001b[43mleft\u001b[49m\u001b[43m,\u001b[49m\u001b[43m \u001b[49m\u001b[43mright\u001b[49m\u001b[43m)\u001b[49m\n\u001b[1;32m    166\u001b[0m \u001b[38;5;28;01mexcept\u001b[39;00m \u001b[38;5;167;01mTypeError\u001b[39;00m:\n",
      "File \u001b[0;32m~/Development/EDU_PROGRAMMING/LETBD8PYTHON/python_data_science/venv/lib/python3.10/site-packages/pandas/core/computation/expressions.py:242\u001b[0m, in \u001b[0;36mevaluate\u001b[0;34m(op, a, b, use_numexpr)\u001b[0m\n\u001b[1;32m    240\u001b[0m     \u001b[38;5;28;01mif\u001b[39;00m use_numexpr:\n\u001b[1;32m    241\u001b[0m         \u001b[38;5;66;03m# error: \"None\" not callable\u001b[39;00m\n\u001b[0;32m--> 242\u001b[0m         \u001b[38;5;28;01mreturn\u001b[39;00m \u001b[43m_evaluate\u001b[49m\u001b[43m(\u001b[49m\u001b[43mop\u001b[49m\u001b[43m,\u001b[49m\u001b[43m \u001b[49m\u001b[43mop_str\u001b[49m\u001b[43m,\u001b[49m\u001b[43m \u001b[49m\u001b[43ma\u001b[49m\u001b[43m,\u001b[49m\u001b[43m \u001b[49m\u001b[43mb\u001b[49m\u001b[43m)\u001b[49m  \u001b[38;5;66;03m# type: ignore[misc]\u001b[39;00m\n\u001b[1;32m    243\u001b[0m \u001b[38;5;28;01mreturn\u001b[39;00m _evaluate_standard(op, op_str, a, b)\n",
      "File \u001b[0;32m~/Development/EDU_PROGRAMMING/LETBD8PYTHON/python_data_science/venv/lib/python3.10/site-packages/pandas/core/computation/expressions.py:71\u001b[0m, in \u001b[0;36m_evaluate_standard\u001b[0;34m(op, op_str, a, b)\u001b[0m\n\u001b[1;32m     70\u001b[0m     _store_test_result(\u001b[38;5;28;01mFalse\u001b[39;00m)\n\u001b[0;32m---> 71\u001b[0m \u001b[38;5;28;01mreturn\u001b[39;00m \u001b[43mop\u001b[49m\u001b[43m(\u001b[49m\u001b[43ma\u001b[49m\u001b[43m,\u001b[49m\u001b[43m \u001b[49m\u001b[43mb\u001b[49m\u001b[43m)\u001b[49m\n",
      "\u001b[0;31mTypeError\u001b[0m: unsupported operand type(s) for -: 'str' and 'str'",
      "\nDuring handling of the above exception, another exception occurred:\n",
      "\u001b[0;31mTypeError\u001b[0m                                 Traceback (most recent call last)",
      "Cell \u001b[0;32mIn[29], line 1\u001b[0m\n\u001b[0;32m----> 1\u001b[0m \u001b[38;5;28mprint\u001b[39m(\u001b[43mbethe\u001b[49m\u001b[43m[\u001b[49m\u001b[38;5;124;43m\"\u001b[39;49m\u001b[38;5;124;43mdied\u001b[39;49m\u001b[38;5;124;43m\"\u001b[39;49m\u001b[43m]\u001b[49m\u001b[43m \u001b[49m\u001b[38;5;241;43m-\u001b[39;49m\u001b[43m \u001b[49m\u001b[43mbethe\u001b[49m\u001b[43m[\u001b[49m\u001b[38;5;124;43m\"\u001b[39;49m\u001b[38;5;124;43mborn\u001b[39;49m\u001b[38;5;124;43m\"\u001b[39;49m\u001b[43m]\u001b[49m)\n",
      "File \u001b[0;32m~/Development/EDU_PROGRAMMING/LETBD8PYTHON/python_data_science/venv/lib/python3.10/site-packages/pandas/core/ops/common.py:72\u001b[0m, in \u001b[0;36m_unpack_zerodim_and_defer.<locals>.new_method\u001b[0;34m(self, other)\u001b[0m\n\u001b[1;32m     68\u001b[0m             \u001b[38;5;28;01mreturn\u001b[39;00m \u001b[38;5;28mNotImplemented\u001b[39m\n\u001b[1;32m     70\u001b[0m other \u001b[38;5;241m=\u001b[39m item_from_zerodim(other)\n\u001b[0;32m---> 72\u001b[0m \u001b[38;5;28;01mreturn\u001b[39;00m \u001b[43mmethod\u001b[49m\u001b[43m(\u001b[49m\u001b[38;5;28;43mself\u001b[39;49m\u001b[43m,\u001b[49m\u001b[43m \u001b[49m\u001b[43mother\u001b[49m\u001b[43m)\u001b[49m\n",
      "File \u001b[0;32m~/Development/EDU_PROGRAMMING/LETBD8PYTHON/python_data_science/venv/lib/python3.10/site-packages/pandas/core/arraylike.py:111\u001b[0m, in \u001b[0;36mOpsMixin.__sub__\u001b[0;34m(self, other)\u001b[0m\n\u001b[1;32m    109\u001b[0m \u001b[38;5;129m@unpack_zerodim_and_defer\u001b[39m(\u001b[38;5;124m\"\u001b[39m\u001b[38;5;124m__sub__\u001b[39m\u001b[38;5;124m\"\u001b[39m)\n\u001b[1;32m    110\u001b[0m \u001b[38;5;28;01mdef\u001b[39;00m \u001b[38;5;21m__sub__\u001b[39m(\u001b[38;5;28mself\u001b[39m, other):\n\u001b[0;32m--> 111\u001b[0m     \u001b[38;5;28;01mreturn\u001b[39;00m \u001b[38;5;28;43mself\u001b[39;49m\u001b[38;5;241;43m.\u001b[39;49m\u001b[43m_arith_method\u001b[49m\u001b[43m(\u001b[49m\u001b[43mother\u001b[49m\u001b[43m,\u001b[49m\u001b[43m \u001b[49m\u001b[43moperator\u001b[49m\u001b[38;5;241;43m.\u001b[39;49m\u001b[43msub\u001b[49m\u001b[43m)\u001b[49m\n",
      "File \u001b[0;32m~/Development/EDU_PROGRAMMING/LETBD8PYTHON/python_data_science/venv/lib/python3.10/site-packages/pandas/core/series.py:6262\u001b[0m, in \u001b[0;36mSeries._arith_method\u001b[0;34m(self, other, op)\u001b[0m\n\u001b[1;32m   6260\u001b[0m \u001b[38;5;28;01mdef\u001b[39;00m \u001b[38;5;21m_arith_method\u001b[39m(\u001b[38;5;28mself\u001b[39m, other, op):\n\u001b[1;32m   6261\u001b[0m     \u001b[38;5;28mself\u001b[39m, other \u001b[38;5;241m=\u001b[39m ops\u001b[38;5;241m.\u001b[39malign_method_SERIES(\u001b[38;5;28mself\u001b[39m, other)\n\u001b[0;32m-> 6262\u001b[0m     \u001b[38;5;28;01mreturn\u001b[39;00m \u001b[43mbase\u001b[49m\u001b[38;5;241;43m.\u001b[39;49m\u001b[43mIndexOpsMixin\u001b[49m\u001b[38;5;241;43m.\u001b[39;49m\u001b[43m_arith_method\u001b[49m\u001b[43m(\u001b[49m\u001b[38;5;28;43mself\u001b[39;49m\u001b[43m,\u001b[49m\u001b[43m \u001b[49m\u001b[43mother\u001b[49m\u001b[43m,\u001b[49m\u001b[43m \u001b[49m\u001b[43mop\u001b[49m\u001b[43m)\u001b[49m\n",
      "File \u001b[0;32m~/Development/EDU_PROGRAMMING/LETBD8PYTHON/python_data_science/venv/lib/python3.10/site-packages/pandas/core/base.py:1325\u001b[0m, in \u001b[0;36mIndexOpsMixin._arith_method\u001b[0;34m(self, other, op)\u001b[0m\n\u001b[1;32m   1322\u001b[0m rvalues \u001b[38;5;241m=\u001b[39m ensure_wrapped_if_datetimelike(rvalues)\n\u001b[1;32m   1324\u001b[0m \u001b[38;5;28;01mwith\u001b[39;00m np\u001b[38;5;241m.\u001b[39merrstate(\u001b[38;5;28mall\u001b[39m\u001b[38;5;241m=\u001b[39m\u001b[38;5;124m\"\u001b[39m\u001b[38;5;124mignore\u001b[39m\u001b[38;5;124m\"\u001b[39m):\n\u001b[0;32m-> 1325\u001b[0m     result \u001b[38;5;241m=\u001b[39m \u001b[43mops\u001b[49m\u001b[38;5;241;43m.\u001b[39;49m\u001b[43marithmetic_op\u001b[49m\u001b[43m(\u001b[49m\u001b[43mlvalues\u001b[49m\u001b[43m,\u001b[49m\u001b[43m \u001b[49m\u001b[43mrvalues\u001b[49m\u001b[43m,\u001b[49m\u001b[43m \u001b[49m\u001b[43mop\u001b[49m\u001b[43m)\u001b[49m\n\u001b[1;32m   1327\u001b[0m \u001b[38;5;28;01mreturn\u001b[39;00m \u001b[38;5;28mself\u001b[39m\u001b[38;5;241m.\u001b[39m_construct_result(result, name\u001b[38;5;241m=\u001b[39mres_name)\n",
      "File \u001b[0;32m~/Development/EDU_PROGRAMMING/LETBD8PYTHON/python_data_science/venv/lib/python3.10/site-packages/pandas/core/ops/array_ops.py:226\u001b[0m, in \u001b[0;36marithmetic_op\u001b[0;34m(left, right, op)\u001b[0m\n\u001b[1;32m    222\u001b[0m     _bool_arith_check(op, left, right)\n\u001b[1;32m    224\u001b[0m     \u001b[38;5;66;03m# error: Argument 1 to \"_na_arithmetic_op\" has incompatible type\u001b[39;00m\n\u001b[1;32m    225\u001b[0m     \u001b[38;5;66;03m# \"Union[ExtensionArray, ndarray[Any, Any]]\"; expected \"ndarray[Any, Any]\"\u001b[39;00m\n\u001b[0;32m--> 226\u001b[0m     res_values \u001b[38;5;241m=\u001b[39m \u001b[43m_na_arithmetic_op\u001b[49m\u001b[43m(\u001b[49m\u001b[43mleft\u001b[49m\u001b[43m,\u001b[49m\u001b[43m \u001b[49m\u001b[43mright\u001b[49m\u001b[43m,\u001b[49m\u001b[43m \u001b[49m\u001b[43mop\u001b[49m\u001b[43m)\u001b[49m  \u001b[38;5;66;03m# type: ignore[arg-type]\u001b[39;00m\n\u001b[1;32m    228\u001b[0m \u001b[38;5;28;01mreturn\u001b[39;00m res_values\n",
      "File \u001b[0;32m~/Development/EDU_PROGRAMMING/LETBD8PYTHON/python_data_science/venv/lib/python3.10/site-packages/pandas/core/ops/array_ops.py:172\u001b[0m, in \u001b[0;36m_na_arithmetic_op\u001b[0;34m(left, right, op, is_cmp)\u001b[0m\n\u001b[1;32m    166\u001b[0m \u001b[38;5;28;01mexcept\u001b[39;00m \u001b[38;5;167;01mTypeError\u001b[39;00m:\n\u001b[1;32m    167\u001b[0m     \u001b[38;5;28;01mif\u001b[39;00m \u001b[38;5;129;01mnot\u001b[39;00m is_cmp \u001b[38;5;129;01mand\u001b[39;00m (is_object_dtype(left\u001b[38;5;241m.\u001b[39mdtype) \u001b[38;5;129;01mor\u001b[39;00m is_object_dtype(right)):\n\u001b[1;32m    168\u001b[0m         \u001b[38;5;66;03m# For object dtype, fallback to a masked operation (only operating\u001b[39;00m\n\u001b[1;32m    169\u001b[0m         \u001b[38;5;66;03m#  on the non-missing values)\u001b[39;00m\n\u001b[1;32m    170\u001b[0m         \u001b[38;5;66;03m# Don't do this for comparisons, as that will handle complex numbers\u001b[39;00m\n\u001b[1;32m    171\u001b[0m         \u001b[38;5;66;03m#  incorrectly, see GH#32047\u001b[39;00m\n\u001b[0;32m--> 172\u001b[0m         result \u001b[38;5;241m=\u001b[39m \u001b[43m_masked_arith_op\u001b[49m\u001b[43m(\u001b[49m\u001b[43mleft\u001b[49m\u001b[43m,\u001b[49m\u001b[43m \u001b[49m\u001b[43mright\u001b[49m\u001b[43m,\u001b[49m\u001b[43m \u001b[49m\u001b[43mop\u001b[49m\u001b[43m)\u001b[49m\n\u001b[1;32m    173\u001b[0m     \u001b[38;5;28;01melse\u001b[39;00m:\n\u001b[1;32m    174\u001b[0m         \u001b[38;5;28;01mraise\u001b[39;00m\n",
      "File \u001b[0;32m~/Development/EDU_PROGRAMMING/LETBD8PYTHON/python_data_science/venv/lib/python3.10/site-packages/pandas/core/ops/array_ops.py:110\u001b[0m, in \u001b[0;36m_masked_arith_op\u001b[0;34m(x, y, op)\u001b[0m\n\u001b[1;32m    108\u001b[0m     \u001b[38;5;66;03m# See GH#5284, GH#5035, GH#19448 for historical reference\u001b[39;00m\n\u001b[1;32m    109\u001b[0m     \u001b[38;5;28;01mif\u001b[39;00m mask\u001b[38;5;241m.\u001b[39many():\n\u001b[0;32m--> 110\u001b[0m         result[mask] \u001b[38;5;241m=\u001b[39m \u001b[43mop\u001b[49m\u001b[43m(\u001b[49m\u001b[43mxrav\u001b[49m\u001b[43m[\u001b[49m\u001b[43mmask\u001b[49m\u001b[43m]\u001b[49m\u001b[43m,\u001b[49m\u001b[43m \u001b[49m\u001b[43myrav\u001b[49m\u001b[43m[\u001b[49m\u001b[43mmask\u001b[49m\u001b[43m]\u001b[49m\u001b[43m)\u001b[49m\n\u001b[1;32m    112\u001b[0m \u001b[38;5;28;01melse\u001b[39;00m:\n\u001b[1;32m    113\u001b[0m     \u001b[38;5;28;01mif\u001b[39;00m \u001b[38;5;129;01mnot\u001b[39;00m is_scalar(y):\n",
      "\u001b[0;31mTypeError\u001b[0m: unsupported operand type(s) for -: 'str' and 'str'"
     ]
    }
   ],
   "source": [
    "print(bethe[\"died\"] - bethe[\"born\"])"
   ]
  },
  {
   "cell_type": "code",
   "execution_count": 30,
   "id": "d19df03f-d771-44d1-b184-c5e756893877",
   "metadata": {},
   "outputs": [
    {
     "name": "stdout",
     "output_type": "stream",
     "text": [
      "88   36042 days\n",
      "dtype: timedelta64[ns]\n"
     ]
    }
   ],
   "source": [
    "diff = pd.to_datetime(bethe[\"died\"]) - pd.to_datetime(bethe[\"born\"])\n",
    "print(diff)"
   ]
  },
  {
   "cell_type": "code",
   "execution_count": 31,
   "id": "cb50f01b-7be0-4cf0-b39a-e72281345d60",
   "metadata": {},
   "outputs": [
    {
     "name": "stdout",
     "output_type": "stream",
     "text": [
      "88    98.679644\n",
      "dtype: float64\n"
     ]
    }
   ],
   "source": [
    "print(diff/np.timedelta64(1, \"Y\"))"
   ]
  },
  {
   "cell_type": "code",
   "execution_count": 32,
   "id": "503ffe3e-3ad4-4e25-8f1c-8db923f9405e",
   "metadata": {},
   "outputs": [
    {
     "ename": "ParserError",
     "evalue": "month must be in 1..12: 1873-00-00 present at position 465",
     "output_type": "error",
     "traceback": [
      "\u001b[0;31m---------------------------------------------------------------------------\u001b[0m",
      "\u001b[0;31mValueError\u001b[0m                                Traceback (most recent call last)",
      "File \u001b[0;32m~/Development/EDU_PROGRAMMING/LETBD8PYTHON/python_data_science/venv/lib/python3.10/site-packages/dateutil/parser/_parser.py:649\u001b[0m, in \u001b[0;36mparser.parse\u001b[0;34m(self, timestr, default, ignoretz, tzinfos, **kwargs)\u001b[0m\n\u001b[1;32m    648\u001b[0m \u001b[38;5;28;01mtry\u001b[39;00m:\n\u001b[0;32m--> 649\u001b[0m     ret \u001b[38;5;241m=\u001b[39m \u001b[38;5;28;43mself\u001b[39;49m\u001b[38;5;241;43m.\u001b[39;49m\u001b[43m_build_naive\u001b[49m\u001b[43m(\u001b[49m\u001b[43mres\u001b[49m\u001b[43m,\u001b[49m\u001b[43m \u001b[49m\u001b[43mdefault\u001b[49m\u001b[43m)\u001b[49m\n\u001b[1;32m    650\u001b[0m \u001b[38;5;28;01mexcept\u001b[39;00m \u001b[38;5;167;01mValueError\u001b[39;00m \u001b[38;5;28;01mas\u001b[39;00m e:\n",
      "File \u001b[0;32m~/Development/EDU_PROGRAMMING/LETBD8PYTHON/python_data_science/venv/lib/python3.10/site-packages/dateutil/parser/_parser.py:1235\u001b[0m, in \u001b[0;36mparser._build_naive\u001b[0;34m(self, res, default)\u001b[0m\n\u001b[1;32m   1233\u001b[0m         repl[\u001b[38;5;124m'\u001b[39m\u001b[38;5;124mday\u001b[39m\u001b[38;5;124m'\u001b[39m] \u001b[38;5;241m=\u001b[39m monthrange(cyear, cmonth)[\u001b[38;5;241m1\u001b[39m]\n\u001b[0;32m-> 1235\u001b[0m naive \u001b[38;5;241m=\u001b[39m \u001b[43mdefault\u001b[49m\u001b[38;5;241;43m.\u001b[39;49m\u001b[43mreplace\u001b[49m\u001b[43m(\u001b[49m\u001b[38;5;241;43m*\u001b[39;49m\u001b[38;5;241;43m*\u001b[39;49m\u001b[43mrepl\u001b[49m\u001b[43m)\u001b[49m\n\u001b[1;32m   1237\u001b[0m \u001b[38;5;28;01mif\u001b[39;00m res\u001b[38;5;241m.\u001b[39mweekday \u001b[38;5;129;01mis\u001b[39;00m \u001b[38;5;129;01mnot\u001b[39;00m \u001b[38;5;28;01mNone\u001b[39;00m \u001b[38;5;129;01mand\u001b[39;00m \u001b[38;5;129;01mnot\u001b[39;00m res\u001b[38;5;241m.\u001b[39mday:\n",
      "\u001b[0;31mValueError\u001b[0m: month must be in 1..12",
      "\nThe above exception was the direct cause of the following exception:\n",
      "\u001b[0;31mParserError\u001b[0m                               Traceback (most recent call last)",
      "File \u001b[0;32m~/Development/EDU_PROGRAMMING/LETBD8PYTHON/python_data_science/venv/lib/python3.10/site-packages/pandas/_libs/tslib.pyx:606\u001b[0m, in \u001b[0;36mpandas._libs.tslib.array_to_datetime\u001b[0;34m()\u001b[0m\n",
      "File \u001b[0;32m~/Development/EDU_PROGRAMMING/LETBD8PYTHON/python_data_science/venv/lib/python3.10/site-packages/pandas/_libs/tslibs/parsing.pyx:321\u001b[0m, in \u001b[0;36mpandas._libs.tslibs.parsing.parse_datetime_string\u001b[0;34m()\u001b[0m\n",
      "File \u001b[0;32m~/Development/EDU_PROGRAMMING/LETBD8PYTHON/python_data_science/venv/lib/python3.10/site-packages/dateutil/parser/_parser.py:1368\u001b[0m, in \u001b[0;36mparse\u001b[0;34m(timestr, parserinfo, **kwargs)\u001b[0m\n\u001b[1;32m   1367\u001b[0m \u001b[38;5;28;01melse\u001b[39;00m:\n\u001b[0;32m-> 1368\u001b[0m     \u001b[38;5;28;01mreturn\u001b[39;00m \u001b[43mDEFAULTPARSER\u001b[49m\u001b[38;5;241;43m.\u001b[39;49m\u001b[43mparse\u001b[49m\u001b[43m(\u001b[49m\u001b[43mtimestr\u001b[49m\u001b[43m,\u001b[49m\u001b[43m \u001b[49m\u001b[38;5;241;43m*\u001b[39;49m\u001b[38;5;241;43m*\u001b[39;49m\u001b[43mkwargs\u001b[49m\u001b[43m)\u001b[49m\n",
      "File \u001b[0;32m~/Development/EDU_PROGRAMMING/LETBD8PYTHON/python_data_science/venv/lib/python3.10/site-packages/dateutil/parser/_parser.py:651\u001b[0m, in \u001b[0;36mparser.parse\u001b[0;34m(self, timestr, default, ignoretz, tzinfos, **kwargs)\u001b[0m\n\u001b[1;32m    650\u001b[0m \u001b[38;5;28;01mexcept\u001b[39;00m \u001b[38;5;167;01mValueError\u001b[39;00m \u001b[38;5;28;01mas\u001b[39;00m e:\n\u001b[0;32m--> 651\u001b[0m     \u001b[43msix\u001b[49m\u001b[38;5;241;43m.\u001b[39;49m\u001b[43mraise_from\u001b[49m\u001b[43m(\u001b[49m\u001b[43mParserError\u001b[49m\u001b[43m(\u001b[49m\u001b[38;5;28;43mstr\u001b[39;49m\u001b[43m(\u001b[49m\u001b[43me\u001b[49m\u001b[43m)\u001b[49m\u001b[43m \u001b[49m\u001b[38;5;241;43m+\u001b[39;49m\u001b[43m \u001b[49m\u001b[38;5;124;43m\"\u001b[39;49m\u001b[38;5;124;43m: \u001b[39;49m\u001b[38;5;132;43;01m%s\u001b[39;49;00m\u001b[38;5;124;43m\"\u001b[39;49m\u001b[43m,\u001b[49m\u001b[43m \u001b[49m\u001b[43mtimestr\u001b[49m\u001b[43m)\u001b[49m\u001b[43m,\u001b[49m\u001b[43m \u001b[49m\u001b[43me\u001b[49m\u001b[43m)\u001b[49m\n\u001b[1;32m    653\u001b[0m \u001b[38;5;28;01mif\u001b[39;00m \u001b[38;5;129;01mnot\u001b[39;00m ignoretz:\n",
      "File \u001b[0;32m<string>:3\u001b[0m, in \u001b[0;36mraise_from\u001b[0;34m(value, from_value)\u001b[0m\n",
      "\u001b[0;31mParserError\u001b[0m: month must be in 1..12: 1873-00-00",
      "\nDuring handling of the above exception, another exception occurred:\n",
      "\u001b[0;31mTypeError\u001b[0m                                 Traceback (most recent call last)",
      "File \u001b[0;32m~/Development/EDU_PROGRAMMING/LETBD8PYTHON/python_data_science/venv/lib/python3.10/site-packages/pandas/_libs/tslib.pyx:617\u001b[0m, in \u001b[0;36mpandas._libs.tslib.array_to_datetime\u001b[0;34m()\u001b[0m\n",
      "\u001b[0;31mTypeError\u001b[0m: invalid string coercion to datetime for \"1873-00-00\" at position 465",
      "\nDuring handling of the above exception, another exception occurred:\n",
      "\u001b[0;31mValueError\u001b[0m                                Traceback (most recent call last)",
      "File \u001b[0;32m~/Development/EDU_PROGRAMMING/LETBD8PYTHON/python_data_science/venv/lib/python3.10/site-packages/dateutil/parser/_parser.py:649\u001b[0m, in \u001b[0;36mparser.parse\u001b[0;34m(self, timestr, default, ignoretz, tzinfos, **kwargs)\u001b[0m\n\u001b[1;32m    648\u001b[0m \u001b[38;5;28;01mtry\u001b[39;00m:\n\u001b[0;32m--> 649\u001b[0m     ret \u001b[38;5;241m=\u001b[39m \u001b[38;5;28;43mself\u001b[39;49m\u001b[38;5;241;43m.\u001b[39;49m\u001b[43m_build_naive\u001b[49m\u001b[43m(\u001b[49m\u001b[43mres\u001b[49m\u001b[43m,\u001b[49m\u001b[43m \u001b[49m\u001b[43mdefault\u001b[49m\u001b[43m)\u001b[49m\n\u001b[1;32m    650\u001b[0m \u001b[38;5;28;01mexcept\u001b[39;00m \u001b[38;5;167;01mValueError\u001b[39;00m \u001b[38;5;28;01mas\u001b[39;00m e:\n",
      "File \u001b[0;32m~/Development/EDU_PROGRAMMING/LETBD8PYTHON/python_data_science/venv/lib/python3.10/site-packages/dateutil/parser/_parser.py:1235\u001b[0m, in \u001b[0;36mparser._build_naive\u001b[0;34m(self, res, default)\u001b[0m\n\u001b[1;32m   1233\u001b[0m         repl[\u001b[38;5;124m'\u001b[39m\u001b[38;5;124mday\u001b[39m\u001b[38;5;124m'\u001b[39m] \u001b[38;5;241m=\u001b[39m monthrange(cyear, cmonth)[\u001b[38;5;241m1\u001b[39m]\n\u001b[0;32m-> 1235\u001b[0m naive \u001b[38;5;241m=\u001b[39m \u001b[43mdefault\u001b[49m\u001b[38;5;241;43m.\u001b[39;49m\u001b[43mreplace\u001b[49m\u001b[43m(\u001b[49m\u001b[38;5;241;43m*\u001b[39;49m\u001b[38;5;241;43m*\u001b[39;49m\u001b[43mrepl\u001b[49m\u001b[43m)\u001b[49m\n\u001b[1;32m   1237\u001b[0m \u001b[38;5;28;01mif\u001b[39;00m res\u001b[38;5;241m.\u001b[39mweekday \u001b[38;5;129;01mis\u001b[39;00m \u001b[38;5;129;01mnot\u001b[39;00m \u001b[38;5;28;01mNone\u001b[39;00m \u001b[38;5;129;01mand\u001b[39;00m \u001b[38;5;129;01mnot\u001b[39;00m res\u001b[38;5;241m.\u001b[39mday:\n",
      "\u001b[0;31mValueError\u001b[0m: month must be in 1..12",
      "\nThe above exception was the direct cause of the following exception:\n",
      "\u001b[0;31mParserError\u001b[0m                               Traceback (most recent call last)",
      "Cell \u001b[0;32mIn[32], line 1\u001b[0m\n\u001b[0;32m----> 1\u001b[0m nobel[\u001b[38;5;124m\"\u001b[39m\u001b[38;5;124mborn\u001b[39m\u001b[38;5;124m\"\u001b[39m] \u001b[38;5;241m=\u001b[39m \u001b[43mpd\u001b[49m\u001b[38;5;241;43m.\u001b[39;49m\u001b[43mto_datetime\u001b[49m\u001b[43m(\u001b[49m\u001b[43mnobel\u001b[49m\u001b[43m[\u001b[49m\u001b[38;5;124;43m\"\u001b[39;49m\u001b[38;5;124;43mborn\u001b[39;49m\u001b[38;5;124;43m\"\u001b[39;49m\u001b[43m]\u001b[49m\u001b[43m)\u001b[49m\n",
      "File \u001b[0;32m~/Development/EDU_PROGRAMMING/LETBD8PYTHON/python_data_science/venv/lib/python3.10/site-packages/pandas/core/tools/datetimes.py:1069\u001b[0m, in \u001b[0;36mto_datetime\u001b[0;34m(arg, errors, dayfirst, yearfirst, utc, format, exact, unit, infer_datetime_format, origin, cache)\u001b[0m\n\u001b[1;32m   1067\u001b[0m         result \u001b[38;5;241m=\u001b[39m arg\u001b[38;5;241m.\u001b[39mmap(cache_array)\n\u001b[1;32m   1068\u001b[0m     \u001b[38;5;28;01melse\u001b[39;00m:\n\u001b[0;32m-> 1069\u001b[0m         values \u001b[38;5;241m=\u001b[39m \u001b[43mconvert_listlike\u001b[49m\u001b[43m(\u001b[49m\u001b[43marg\u001b[49m\u001b[38;5;241;43m.\u001b[39;49m\u001b[43m_values\u001b[49m\u001b[43m,\u001b[49m\u001b[43m \u001b[49m\u001b[38;5;28;43mformat\u001b[39;49m\u001b[43m)\u001b[49m\n\u001b[1;32m   1070\u001b[0m         result \u001b[38;5;241m=\u001b[39m arg\u001b[38;5;241m.\u001b[39m_constructor(values, index\u001b[38;5;241m=\u001b[39marg\u001b[38;5;241m.\u001b[39mindex, name\u001b[38;5;241m=\u001b[39marg\u001b[38;5;241m.\u001b[39mname)\n\u001b[1;32m   1071\u001b[0m \u001b[38;5;28;01melif\u001b[39;00m \u001b[38;5;28misinstance\u001b[39m(arg, (ABCDataFrame, abc\u001b[38;5;241m.\u001b[39mMutableMapping)):\n",
      "File \u001b[0;32m~/Development/EDU_PROGRAMMING/LETBD8PYTHON/python_data_science/venv/lib/python3.10/site-packages/pandas/core/tools/datetimes.py:439\u001b[0m, in \u001b[0;36m_convert_listlike_datetimes\u001b[0;34m(arg, format, name, tz, unit, errors, infer_datetime_format, dayfirst, yearfirst, exact)\u001b[0m\n\u001b[1;32m    437\u001b[0m \u001b[38;5;28;01massert\u001b[39;00m \u001b[38;5;28mformat\u001b[39m \u001b[38;5;129;01mis\u001b[39;00m \u001b[38;5;28;01mNone\u001b[39;00m \u001b[38;5;129;01mor\u001b[39;00m infer_datetime_format\n\u001b[1;32m    438\u001b[0m utc \u001b[38;5;241m=\u001b[39m tz \u001b[38;5;241m==\u001b[39m \u001b[38;5;124m\"\u001b[39m\u001b[38;5;124mutc\u001b[39m\u001b[38;5;124m\"\u001b[39m\n\u001b[0;32m--> 439\u001b[0m result, tz_parsed \u001b[38;5;241m=\u001b[39m \u001b[43mobjects_to_datetime64ns\u001b[49m\u001b[43m(\u001b[49m\n\u001b[1;32m    440\u001b[0m \u001b[43m    \u001b[49m\u001b[43marg\u001b[49m\u001b[43m,\u001b[49m\n\u001b[1;32m    441\u001b[0m \u001b[43m    \u001b[49m\u001b[43mdayfirst\u001b[49m\u001b[38;5;241;43m=\u001b[39;49m\u001b[43mdayfirst\u001b[49m\u001b[43m,\u001b[49m\n\u001b[1;32m    442\u001b[0m \u001b[43m    \u001b[49m\u001b[43myearfirst\u001b[49m\u001b[38;5;241;43m=\u001b[39;49m\u001b[43myearfirst\u001b[49m\u001b[43m,\u001b[49m\n\u001b[1;32m    443\u001b[0m \u001b[43m    \u001b[49m\u001b[43mutc\u001b[49m\u001b[38;5;241;43m=\u001b[39;49m\u001b[43mutc\u001b[49m\u001b[43m,\u001b[49m\n\u001b[1;32m    444\u001b[0m \u001b[43m    \u001b[49m\u001b[43merrors\u001b[49m\u001b[38;5;241;43m=\u001b[39;49m\u001b[43merrors\u001b[49m\u001b[43m,\u001b[49m\n\u001b[1;32m    445\u001b[0m \u001b[43m    \u001b[49m\u001b[43mrequire_iso8601\u001b[49m\u001b[38;5;241;43m=\u001b[39;49m\u001b[43mrequire_iso8601\u001b[49m\u001b[43m,\u001b[49m\n\u001b[1;32m    446\u001b[0m \u001b[43m    \u001b[49m\u001b[43mallow_object\u001b[49m\u001b[38;5;241;43m=\u001b[39;49m\u001b[38;5;28;43;01mTrue\u001b[39;49;00m\u001b[43m,\u001b[49m\n\u001b[1;32m    447\u001b[0m \u001b[43m\u001b[49m\u001b[43m)\u001b[49m\n\u001b[1;32m    449\u001b[0m \u001b[38;5;28;01mif\u001b[39;00m tz_parsed \u001b[38;5;129;01mis\u001b[39;00m \u001b[38;5;129;01mnot\u001b[39;00m \u001b[38;5;28;01mNone\u001b[39;00m:\n\u001b[1;32m    450\u001b[0m     \u001b[38;5;66;03m# We can take a shortcut since the datetime64 numpy array\u001b[39;00m\n\u001b[1;32m    451\u001b[0m     \u001b[38;5;66;03m# is in UTC\u001b[39;00m\n\u001b[1;32m    452\u001b[0m     dta \u001b[38;5;241m=\u001b[39m DatetimeArray(result, dtype\u001b[38;5;241m=\u001b[39mtz_to_dtype(tz_parsed))\n",
      "File \u001b[0;32m~/Development/EDU_PROGRAMMING/LETBD8PYTHON/python_data_science/venv/lib/python3.10/site-packages/pandas/core/arrays/datetimes.py:2178\u001b[0m, in \u001b[0;36mobjects_to_datetime64ns\u001b[0;34m(data, dayfirst, yearfirst, utc, errors, require_iso8601, allow_object, allow_mixed)\u001b[0m\n\u001b[1;32m   2176\u001b[0m order: Literal[\u001b[38;5;124m\"\u001b[39m\u001b[38;5;124mF\u001b[39m\u001b[38;5;124m\"\u001b[39m, \u001b[38;5;124m\"\u001b[39m\u001b[38;5;124mC\u001b[39m\u001b[38;5;124m\"\u001b[39m] \u001b[38;5;241m=\u001b[39m \u001b[38;5;124m\"\u001b[39m\u001b[38;5;124mF\u001b[39m\u001b[38;5;124m\"\u001b[39m \u001b[38;5;28;01mif\u001b[39;00m flags\u001b[38;5;241m.\u001b[39mf_contiguous \u001b[38;5;28;01melse\u001b[39;00m \u001b[38;5;124m\"\u001b[39m\u001b[38;5;124mC\u001b[39m\u001b[38;5;124m\"\u001b[39m\n\u001b[1;32m   2177\u001b[0m \u001b[38;5;28;01mtry\u001b[39;00m:\n\u001b[0;32m-> 2178\u001b[0m     result, tz_parsed \u001b[38;5;241m=\u001b[39m \u001b[43mtslib\u001b[49m\u001b[38;5;241;43m.\u001b[39;49m\u001b[43marray_to_datetime\u001b[49m\u001b[43m(\u001b[49m\n\u001b[1;32m   2179\u001b[0m \u001b[43m        \u001b[49m\u001b[43mdata\u001b[49m\u001b[38;5;241;43m.\u001b[39;49m\u001b[43mravel\u001b[49m\u001b[43m(\u001b[49m\u001b[38;5;124;43m\"\u001b[39;49m\u001b[38;5;124;43mK\u001b[39;49m\u001b[38;5;124;43m\"\u001b[39;49m\u001b[43m)\u001b[49m\u001b[43m,\u001b[49m\n\u001b[1;32m   2180\u001b[0m \u001b[43m        \u001b[49m\u001b[43merrors\u001b[49m\u001b[38;5;241;43m=\u001b[39;49m\u001b[43merrors\u001b[49m\u001b[43m,\u001b[49m\n\u001b[1;32m   2181\u001b[0m \u001b[43m        \u001b[49m\u001b[43mutc\u001b[49m\u001b[38;5;241;43m=\u001b[39;49m\u001b[43mutc\u001b[49m\u001b[43m,\u001b[49m\n\u001b[1;32m   2182\u001b[0m \u001b[43m        \u001b[49m\u001b[43mdayfirst\u001b[49m\u001b[38;5;241;43m=\u001b[39;49m\u001b[43mdayfirst\u001b[49m\u001b[43m,\u001b[49m\n\u001b[1;32m   2183\u001b[0m \u001b[43m        \u001b[49m\u001b[43myearfirst\u001b[49m\u001b[38;5;241;43m=\u001b[39;49m\u001b[43myearfirst\u001b[49m\u001b[43m,\u001b[49m\n\u001b[1;32m   2184\u001b[0m \u001b[43m        \u001b[49m\u001b[43mrequire_iso8601\u001b[49m\u001b[38;5;241;43m=\u001b[39;49m\u001b[43mrequire_iso8601\u001b[49m\u001b[43m,\u001b[49m\n\u001b[1;32m   2185\u001b[0m \u001b[43m        \u001b[49m\u001b[43mallow_mixed\u001b[49m\u001b[38;5;241;43m=\u001b[39;49m\u001b[43mallow_mixed\u001b[49m\u001b[43m,\u001b[49m\n\u001b[1;32m   2186\u001b[0m \u001b[43m    \u001b[49m\u001b[43m)\u001b[49m\n\u001b[1;32m   2187\u001b[0m     result \u001b[38;5;241m=\u001b[39m result\u001b[38;5;241m.\u001b[39mreshape(data\u001b[38;5;241m.\u001b[39mshape, order\u001b[38;5;241m=\u001b[39morder)\n\u001b[1;32m   2188\u001b[0m \u001b[38;5;28;01mexcept\u001b[39;00m \u001b[38;5;167;01mOverflowError\u001b[39;00m \u001b[38;5;28;01mas\u001b[39;00m err:\n\u001b[1;32m   2189\u001b[0m     \u001b[38;5;66;03m# Exception is raised when a part of date is greater than 32 bit signed int\u001b[39;00m\n",
      "File \u001b[0;32m~/Development/EDU_PROGRAMMING/LETBD8PYTHON/python_data_science/venv/lib/python3.10/site-packages/pandas/_libs/tslib.pyx:428\u001b[0m, in \u001b[0;36mpandas._libs.tslib.array_to_datetime\u001b[0;34m()\u001b[0m\n",
      "File \u001b[0;32m~/Development/EDU_PROGRAMMING/LETBD8PYTHON/python_data_science/venv/lib/python3.10/site-packages/pandas/_libs/tslib.pyx:684\u001b[0m, in \u001b[0;36mpandas._libs.tslib.array_to_datetime\u001b[0;34m()\u001b[0m\n",
      "File \u001b[0;32m~/Development/EDU_PROGRAMMING/LETBD8PYTHON/python_data_science/venv/lib/python3.10/site-packages/pandas/_libs/tslib.pyx:830\u001b[0m, in \u001b[0;36mpandas._libs.tslib._array_to_datetime_object\u001b[0;34m()\u001b[0m\n",
      "File \u001b[0;32m~/Development/EDU_PROGRAMMING/LETBD8PYTHON/python_data_science/venv/lib/python3.10/site-packages/pandas/_libs/tslib.pyx:820\u001b[0m, in \u001b[0;36mpandas._libs.tslib._array_to_datetime_object\u001b[0;34m()\u001b[0m\n",
      "File \u001b[0;32m~/Development/EDU_PROGRAMMING/LETBD8PYTHON/python_data_science/venv/lib/python3.10/site-packages/pandas/_libs/tslibs/parsing.pyx:321\u001b[0m, in \u001b[0;36mpandas._libs.tslibs.parsing.parse_datetime_string\u001b[0;34m()\u001b[0m\n",
      "File \u001b[0;32m~/Development/EDU_PROGRAMMING/LETBD8PYTHON/python_data_science/venv/lib/python3.10/site-packages/dateutil/parser/_parser.py:1368\u001b[0m, in \u001b[0;36mparse\u001b[0;34m(timestr, parserinfo, **kwargs)\u001b[0m\n\u001b[1;32m   1366\u001b[0m     \u001b[38;5;28;01mreturn\u001b[39;00m parser(parserinfo)\u001b[38;5;241m.\u001b[39mparse(timestr, \u001b[38;5;241m*\u001b[39m\u001b[38;5;241m*\u001b[39mkwargs)\n\u001b[1;32m   1367\u001b[0m \u001b[38;5;28;01melse\u001b[39;00m:\n\u001b[0;32m-> 1368\u001b[0m     \u001b[38;5;28;01mreturn\u001b[39;00m \u001b[43mDEFAULTPARSER\u001b[49m\u001b[38;5;241;43m.\u001b[39;49m\u001b[43mparse\u001b[49m\u001b[43m(\u001b[49m\u001b[43mtimestr\u001b[49m\u001b[43m,\u001b[49m\u001b[43m \u001b[49m\u001b[38;5;241;43m*\u001b[39;49m\u001b[38;5;241;43m*\u001b[39;49m\u001b[43mkwargs\u001b[49m\u001b[43m)\u001b[49m\n",
      "File \u001b[0;32m~/Development/EDU_PROGRAMMING/LETBD8PYTHON/python_data_science/venv/lib/python3.10/site-packages/dateutil/parser/_parser.py:651\u001b[0m, in \u001b[0;36mparser.parse\u001b[0;34m(self, timestr, default, ignoretz, tzinfos, **kwargs)\u001b[0m\n\u001b[1;32m    649\u001b[0m     ret \u001b[38;5;241m=\u001b[39m \u001b[38;5;28mself\u001b[39m\u001b[38;5;241m.\u001b[39m_build_naive(res, default)\n\u001b[1;32m    650\u001b[0m \u001b[38;5;28;01mexcept\u001b[39;00m \u001b[38;5;167;01mValueError\u001b[39;00m \u001b[38;5;28;01mas\u001b[39;00m e:\n\u001b[0;32m--> 651\u001b[0m     \u001b[43msix\u001b[49m\u001b[38;5;241;43m.\u001b[39;49m\u001b[43mraise_from\u001b[49m\u001b[43m(\u001b[49m\u001b[43mParserError\u001b[49m\u001b[43m(\u001b[49m\u001b[38;5;28;43mstr\u001b[39;49m\u001b[43m(\u001b[49m\u001b[43me\u001b[49m\u001b[43m)\u001b[49m\u001b[43m \u001b[49m\u001b[38;5;241;43m+\u001b[39;49m\u001b[43m \u001b[49m\u001b[38;5;124;43m\"\u001b[39;49m\u001b[38;5;124;43m: \u001b[39;49m\u001b[38;5;132;43;01m%s\u001b[39;49;00m\u001b[38;5;124;43m\"\u001b[39;49m\u001b[43m,\u001b[49m\u001b[43m \u001b[49m\u001b[43mtimestr\u001b[49m\u001b[43m)\u001b[49m\u001b[43m,\u001b[49m\u001b[43m \u001b[49m\u001b[43me\u001b[49m\u001b[43m)\u001b[49m\n\u001b[1;32m    653\u001b[0m \u001b[38;5;28;01mif\u001b[39;00m \u001b[38;5;129;01mnot\u001b[39;00m ignoretz:\n\u001b[1;32m    654\u001b[0m     ret \u001b[38;5;241m=\u001b[39m \u001b[38;5;28mself\u001b[39m\u001b[38;5;241m.\u001b[39m_build_tzaware(ret, res, tzinfos)\n",
      "File \u001b[0;32m<string>:3\u001b[0m, in \u001b[0;36mraise_from\u001b[0;34m(value, from_value)\u001b[0m\n",
      "\u001b[0;31mParserError\u001b[0m: month must be in 1..12: 1873-00-00 present at position 465"
     ]
    }
   ],
   "source": [
    "nobel[\"born\"] = pd.to_datetime(nobel[\"born\"])"
   ]
  },
  {
   "cell_type": "code",
   "execution_count": 33,
   "id": "3f53ef96-2d5e-4295-8bec-22aaaa7e97f1",
   "metadata": {},
   "outputs": [
    {
     "name": "stdout",
     "output_type": "stream",
     "text": [
      "      id                       firstname surname        born        died  \\\n",
      "465  467  Institute of International Law     NaN  1873-00-00  0000-00-00   \n",
      "\n",
      "    bornCountry bornCountryCode bornCity diedCountry diedCountryCode diedCity  \\\n",
      "465         NaN             NaN      NaN         NaN             NaN      NaN   \n",
      "\n",
      "    gender  year category overallMotivation  share  \\\n",
      "465    org  1904    peace               NaN      1   \n",
      "\n",
      "                                            motivation name city country  \n",
      "465  \"for its striving in public law to develop pea...  NaN  NaN     NaN  \n"
     ]
    }
   ],
   "source": [
    "print(nobel.loc[nobel[\"born\"] == \"1873-00-00\"])"
   ]
  },
  {
   "cell_type": "code",
   "execution_count": 34,
   "id": "8f40c65e-3807-49a9-9545-c701cd89bc5d",
   "metadata": {},
   "outputs": [
    {
     "name": "stdout",
     "output_type": "stream",
     "text": [
      "NaT\n"
     ]
    }
   ],
   "source": [
    "nobel[\"born\"] = pd.to_datetime(nobel[\"born\"], errors=\"coerce\")\n",
    "nobel[\"died\"] = pd.to_datetime(nobel[\"died\"], errors=\"coerce\")\n",
    "print(nobel.iloc[465].born)"
   ]
  },
  {
   "cell_type": "code",
   "execution_count": 35,
   "id": "164fd251-6aa8-487d-ac97-37fa72626ce6",
   "metadata": {},
   "outputs": [],
   "source": [
    "nobel[\"lifespan\"] = (nobel[\"died\"] - nobel[\"born\"])/np.timedelta64(1, \"Y\")"
   ]
  },
  {
   "cell_type": "code",
   "execution_count": 36,
   "id": "602e8476-48f3-49a1-acb3-466c5a72075c",
   "metadata": {},
   "outputs": [
    {
     "name": "stdout",
     "output_type": "stream",
     "text": [
      "88    98.679644\n",
      "Name: lifespan, dtype: float64\n"
     ]
    }
   ],
   "source": [
    "bethe = nobel.loc[nobel[\"surname\"] == \"Bethe\"]\n",
    "print(bethe[\"lifespan\"])"
   ]
  },
  {
   "cell_type": "code",
   "execution_count": 37,
   "id": "bfcecc9e-384b-4e76-ad94-9d2f84b4ad1a",
   "metadata": {},
   "outputs": [
    {
     "data": {
      "image/png": "[encoded data removed]",
      "text/plain": [
       "<Figure size 640x480 with 1 Axes>"
      ]
     },
     "metadata": {},
     "output_type": "display_data"
    }
   ],
   "source": [
    "nobel.hist(column=\"lifespan\")\n",
    "plt.show()"
   ]
  },
  {
   "cell_type": "code",
   "execution_count": 38,
   "id": "453d30d0-ac1b-44d3-a687-698a9eb8bbbe",
   "metadata": {},
   "outputs": [
    {
     "name": "stdout",
     "output_type": "stream",
     "text": [
      "      id firstname  surname       born       died bornCountry bornCountryCode  \\\n",
      "190  193  Frédéric   Joliot 1900-03-19 1958-08-14      France              FR   \n",
      "461  463  Frédéric    Passy 1822-05-20 1912-06-12      France              FR   \n",
      "568  573  Frédéric  Mistral 1830-09-08 1914-03-25      France              FR   \n",
      "\n",
      "     bornCity diedCountry diedCountryCode  ... gender  year    category  \\\n",
      "190     Paris      France              FR  ...   male  1935   chemistry   \n",
      "461     Paris      France              FR  ...   male  1901       peace   \n",
      "568  Maillane      France              FR  ...   male  1904  literature   \n",
      "\n",
      "    overallMotivation share  \\\n",
      "190               NaN     2   \n",
      "461               NaN     2   \n",
      "568               NaN     2   \n",
      "\n",
      "                                            motivation                name  \\\n",
      "190  \"in recognition of their synthesis of new radi...  Institut du Radium   \n",
      "461  \"for his lifelong work for international peace...                 NaN   \n",
      "568  \"in recognition of the fresh originality and t...                 NaN   \n",
      "\n",
      "      city country   lifespan  \n",
      "190  Paris  France  58.405032  \n",
      "461    NaN     NaN  90.063451  \n",
      "568    NaN     NaN  83.541757  \n",
      "\n",
      "[3 rows x 21 columns]\n"
     ]
    }
   ],
   "source": [
    "print(nobel.loc[nobel[\"firstname\"] == \"Frédéric\"])"
   ]
  },
  {
   "cell_type": "code",
   "execution_count": 39,
   "id": "492ad3f1-fb31-4b1f-aadf-33ae38d4bc35",
   "metadata": {},
   "outputs": [
    {
     "name": "stdout",
     "output_type": "stream",
     "text": [
      "      id firstname       surname       born       died  \\\n",
      "4      5    Pierre         Curie 1859-05-15 1906-04-19   \n",
      "5      6     Marie         Curie 1867-11-07 1934-07-04   \n",
      "6      6     Marie         Curie 1867-11-07 1934-07-04   \n",
      "191  194     Irène  Joliot-Curie 1897-09-12 1956-03-17   \n",
      "\n",
      "                     bornCountry bornCountryCode bornCity diedCountry  \\\n",
      "4                         France              FR    Paris      France   \n",
      "5    Russian Empire (now Poland)              PL   Warsaw      France   \n",
      "6    Russian Empire (now Poland)              PL   Warsaw      France   \n",
      "191                       France              FR    Paris      France   \n",
      "\n",
      "    diedCountryCode  ...  gender  year   category overallMotivation share  \\\n",
      "4                FR  ...    male  1903    physics               NaN     4   \n",
      "5                FR  ...  female  1903    physics               NaN     4   \n",
      "6                FR  ...  female  1911  chemistry               NaN     1   \n",
      "191              FR  ...  female  1935  chemistry               NaN     2   \n",
      "\n",
      "                                            motivation  \\\n",
      "4    \"in recognition of the extraordinary services ...   \n",
      "5    \"in recognition of the extraordinary services ...   \n",
      "6    \"in recognition of her services to the advance...   \n",
      "191  \"in recognition of their synthesis of new radi...   \n",
      "\n",
      "                                                  name   city country  \\\n",
      "4    École municipale de physique et de chimie indu...  Paris  France   \n",
      "5                                                  NaN    NaN     NaN   \n",
      "6                                  Sorbonne University  Paris  France   \n",
      "191                                 Institut du Radium  Paris  France   \n",
      "\n",
      "      lifespan  \n",
      "4    46.927726  \n",
      "5    66.654346  \n",
      "6    66.654346  \n",
      "191  58.509073  \n",
      "\n",
      "[4 rows x 21 columns]\n"
     ]
    }
   ],
   "source": [
    "print(nobel.loc[nobel[\"surname\"].str.contains(\"Curie\", na=False)])"
   ]
  },
  {
   "cell_type": "code",
   "execution_count": null,
   "id": "8cbc9a58-c60e-4ea8-9b75-5d4954e0e408",
   "metadata": {},
   "outputs": [],
   "source": []
  }
 ],
 "metadata": {
  "kernelspec": {
   "display_name": "Python 3 (ipykernel)",
   "language": "python",
   "name": "python3"
  },
  "language_info": {
   "codemirror_mode": {
    "name": "ipython",
    "version": 3
   },
   "file_extension": ".py",
   "mimetype": "text/x-python",
   "name": "python",
   "nbconvert_exporter": "python",
   "pygments_lexer": "ipython3",
   "version": "3.10.9"
  }
 },
 "nbformat": 4,
 "nbformat_minor": 5
}
